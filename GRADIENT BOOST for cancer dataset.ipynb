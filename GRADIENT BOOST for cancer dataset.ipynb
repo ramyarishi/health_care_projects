{
 "cells": [
  {
   "cell_type": "code",
   "execution_count": 1,
   "id": "8092aec9-a748-4132-bf56-5b4fafa58412",
   "metadata": {},
   "outputs": [],
   "source": [
    "import numpy as np\n",
    "import pandas as pd\n",
    "import warnings\n",
    "warnings.simplefilter('ignore')\n",
    "import seaborn as sns\n",
    "import matplotlib.pyplot as plt\n",
    "pd.set_option('display.max_columns',None)"
   ]
  },
  {
   "cell_type": "code",
   "execution_count": 2,
   "id": "6f347701-1366-49f6-9404-2f364ee15285",
   "metadata": {},
   "outputs": [
    {
     "data": {
      "text/html": [
       "<div>\n",
       "<style scoped>\n",
       "    .dataframe tbody tr th:only-of-type {\n",
       "        vertical-align: middle;\n",
       "    }\n",
       "\n",
       "    .dataframe tbody tr th {\n",
       "        vertical-align: top;\n",
       "    }\n",
       "\n",
       "    .dataframe thead th {\n",
       "        text-align: right;\n",
       "    }\n",
       "</style>\n",
       "<table border=\"1\" class=\"dataframe\">\n",
       "  <thead>\n",
       "    <tr style=\"text-align: right;\">\n",
       "      <th></th>\n",
       "      <th>Gene One</th>\n",
       "      <th>Gene Two</th>\n",
       "      <th>Cancer Present</th>\n",
       "    </tr>\n",
       "  </thead>\n",
       "  <tbody>\n",
       "    <tr>\n",
       "      <th>0</th>\n",
       "      <td>4.3</td>\n",
       "      <td>3.9</td>\n",
       "      <td>1</td>\n",
       "    </tr>\n",
       "    <tr>\n",
       "      <th>1</th>\n",
       "      <td>2.5</td>\n",
       "      <td>6.3</td>\n",
       "      <td>0</td>\n",
       "    </tr>\n",
       "    <tr>\n",
       "      <th>2</th>\n",
       "      <td>5.7</td>\n",
       "      <td>3.9</td>\n",
       "      <td>1</td>\n",
       "    </tr>\n",
       "    <tr>\n",
       "      <th>3</th>\n",
       "      <td>6.1</td>\n",
       "      <td>6.2</td>\n",
       "      <td>0</td>\n",
       "    </tr>\n",
       "    <tr>\n",
       "      <th>4</th>\n",
       "      <td>7.4</td>\n",
       "      <td>3.4</td>\n",
       "      <td>1</td>\n",
       "    </tr>\n",
       "    <tr>\n",
       "      <th>...</th>\n",
       "      <td>...</td>\n",
       "      <td>...</td>\n",
       "      <td>...</td>\n",
       "    </tr>\n",
       "    <tr>\n",
       "      <th>2133</th>\n",
       "      <td>5.0</td>\n",
       "      <td>6.5</td>\n",
       "      <td>1</td>\n",
       "    </tr>\n",
       "    <tr>\n",
       "      <th>2134</th>\n",
       "      <td>3.4</td>\n",
       "      <td>6.6</td>\n",
       "      <td>0</td>\n",
       "    </tr>\n",
       "    <tr>\n",
       "      <th>2135</th>\n",
       "      <td>2.7</td>\n",
       "      <td>6.5</td>\n",
       "      <td>0</td>\n",
       "    </tr>\n",
       "    <tr>\n",
       "      <th>2136</th>\n",
       "      <td>3.3</td>\n",
       "      <td>5.6</td>\n",
       "      <td>0</td>\n",
       "    </tr>\n",
       "    <tr>\n",
       "      <th>2137</th>\n",
       "      <td>4.6</td>\n",
       "      <td>8.2</td>\n",
       "      <td>0</td>\n",
       "    </tr>\n",
       "  </tbody>\n",
       "</table>\n",
       "<p>2138 rows × 3 columns</p>\n",
       "</div>"
      ],
      "text/plain": [
       "      Gene One  Gene Two  Cancer Present\n",
       "0          4.3       3.9               1\n",
       "1          2.5       6.3               0\n",
       "2          5.7       3.9               1\n",
       "3          6.1       6.2               0\n",
       "4          7.4       3.4               1\n",
       "...        ...       ...             ...\n",
       "2133       5.0       6.5               1\n",
       "2134       3.4       6.6               0\n",
       "2135       2.7       6.5               0\n",
       "2136       3.3       5.6               0\n",
       "2137       4.6       8.2               0\n",
       "\n",
       "[2138 rows x 3 columns]"
      ]
     },
     "execution_count": 2,
     "metadata": {},
     "output_type": "execute_result"
    }
   ],
   "source": [
    "df = pd.read_excel(r\"D:\\Jupyter\\Data Science\\ML\\SUPERVISIED LEARNING\\CLASSIFICATION\\CANCER DATASET\\cancer.xlsx\")\n",
    "df"
   ]
  },
  {
   "cell_type": "code",
   "execution_count": 3,
   "id": "6d0f85af-c250-4183-8602-a902645a8543",
   "metadata": {},
   "outputs": [],
   "source": [
    "X = df.drop('Cancer Present',axis=1)\n",
    "y = df['Cancer Present']"
   ]
  },
  {
   "cell_type": "code",
   "execution_count": 4,
   "id": "7fb8798f-41c4-4c4e-a168-e4ed521ebd06",
   "metadata": {},
   "outputs": [],
   "source": [
    "from sklearn.model_selection import train_test_split\n",
    "X_train,X_test,y_train,y_test = train_test_split(X,y,test_size=0.2,random_state=True)"
   ]
  },
  {
   "cell_type": "markdown",
   "id": "1b4398a7-e3d2-41d1-afe4-e6d422b094bd",
   "metadata": {},
   "source": [
    " # gradient boost\n",
    "- applying hyperparameter tuning for identifying best parameters for gradient boost"
   ]
  },
  {
   "cell_type": "code",
   "execution_count": 5,
   "id": "132775ff-3c28-4fd3-a085-3a51e0d25dfb",
   "metadata": {},
   "outputs": [
    {
     "data": {
      "text/plain": [
       "{'learning_rate': 0.8, 'n_estimators': 5}"
      ]
     },
     "execution_count": 5,
     "metadata": {},
     "output_type": "execute_result"
    }
   ],
   "source": [
    "from sklearn.model_selection import GridSearchCV\n",
    "\n",
    "#model\n",
    "from sklearn.ensemble import GradientBoostingClassifier\n",
    "estimator_gb = GradientBoostingClassifier(random_state= True)\n",
    "\n",
    "#parameters(which you want to tune and identify the best)\n",
    "param_grid ={'n_estimators':[1,5,10,20,30],\n",
    "            'learning_rate':[0.1,0.2,0.3,0.5,0.8,1]}\n",
    "\n",
    "#grid search\n",
    "grid_gb = GridSearchCV(estimator_gb,param_grid,scoring ='accuracy',cv= 5)\n",
    "grid_gb.fit(X_train,y_train)\n",
    "\n",
    "# best parameters for adaboost model\n",
    "grid_gb.best_params_"
   ]
  },
  {
   "cell_type": "code",
   "execution_count": 6,
   "id": "475d3168-a90d-43b6-a76b-0c6b578ec174",
   "metadata": {},
   "outputs": [
    {
     "data": {
      "text/plain": [
       "array([0.48083189, 0.51916811])"
      ]
     },
     "execution_count": 6,
     "metadata": {},
     "output_type": "execute_result"
    }
   ],
   "source": [
    "grid_gb.best_estimator_.feature_importances_"
   ]
  },
  {
   "cell_type": "code",
   "execution_count": 7,
   "id": "cf1c4b96-abaf-4d35-998e-23ffd7cae984",
   "metadata": {},
   "outputs": [
    {
     "data": {
      "text/plain": [
       "['Gene One', 'Gene Two']"
      ]
     },
     "execution_count": 7,
     "metadata": {},
     "output_type": "execute_result"
    }
   ],
   "source": [
    "s1 = pd.DataFrame(grid_gb.best_estimator_.feature_importances_,\n",
    "                  columns=['featureimportance'],\n",
    "                  index = X.columns)\n",
    "imp_features_list_gb = s1[s1['featureimportance']>0].index.to_list()\n",
    "imp_features_list_gb"
   ]
  },
  {
   "cell_type": "code",
   "execution_count": 9,
   "id": "06141dcf-4b58-490a-996a-934282a156c4",
   "metadata": {},
   "outputs": [
    {
     "name": "stdout",
     "output_type": "stream",
     "text": [
      "trainaccuracy: 0.8918128654970761\n",
      "crossvalidationscore: 0.8871345029239766\n",
      "testaccuracy: 0.8878504672897196\n"
     ]
    }
   ],
   "source": [
    "from sklearn.model_selection import train_test_split\n",
    "from sklearn.ensemble import GradientBoostingClassifier\n",
    "from sklearn.metrics import accuracy_score\n",
    "from sklearn.model_selection import cross_val_score\n",
    "\n",
    "\n",
    "\n",
    "\n",
    "# Ensure `X_imp` and `y` have the same number of rows\n",
    "X_imp = X[imp_features_list_gb]\n",
    "\n",
    "# Correct order of train_test_split\n",
    "X_train_gb, X_test_gb, y_train_gb, y_test_gb = train_test_split(X_imp, y, test_size=0.2, random_state=42)\n",
    "\n",
    "# Initialize and train AdaBoostClassifier\n",
    "ada =GradientBoostingClassifier(n_estimators=9, random_state=42)\n",
    "ada.fit(X_train_gb, y_train_gb)\n",
    "\n",
    "# Predictions\n",
    "ypred_train_gb = ada.predict(X_train_gb)\n",
    "ypred_test_gb = ada.predict(X_test_gb)\n",
    "\n",
    "# Train accuracy\n",
    "print('trainaccuracy:', accuracy_score(y_train_gb, ypred_train_gb))\n",
    "\n",
    "# Cross-validation score\n",
    "print('crossvalidationscore:', cross_val_score(ada, X_train_gb, y_train_gb, cv=5).mean())\n",
    "\n",
    "# Test accuracy\n",
    "print('testaccuracy:', accuracy_score(y_test_gb, ypred_test_gb))\n"
   ]
  },
  {
   "cell_type": "code",
   "execution_count": null,
   "id": "5795392a-b06e-446b-8482-9e5e7a777d98",
   "metadata": {},
   "outputs": [],
   "source": []
  }
 ],
 "metadata": {
  "kernelspec": {
   "display_name": "Python 3 (ipykernel)",
   "language": "python",
   "name": "python3"
  },
  "language_info": {
   "codemirror_mode": {
    "name": "ipython",
    "version": 3
   },
   "file_extension": ".py",
   "mimetype": "text/x-python",
   "name": "python",
   "nbconvert_exporter": "python",
   "pygments_lexer": "ipython3",
   "version": "3.12.4"
  }
 },
 "nbformat": 4,
 "nbformat_minor": 5
}
