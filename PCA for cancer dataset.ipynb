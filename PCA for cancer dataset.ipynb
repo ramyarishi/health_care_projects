{
 "cells": [
  {
   "cell_type": "code",
   "execution_count": 1,
   "id": "98c83c0d-96a3-486d-9b65-696f50dc0a24",
   "metadata": {},
   "outputs": [],
   "source": [
    "import numpy as np\n",
    "import pandas as pd\n",
    "import matplotlib.pyplot as plt\n",
    "import seaborn as sns\n",
    "\n",
    "import warnings\n",
    "warnings.simplefilter('ignore')"
   ]
  },
  {
   "cell_type": "code",
   "execution_count": 2,
   "id": "73ec9e0d-25f9-48f6-b5df-77bb104af981",
   "metadata": {},
   "outputs": [
    {
     "data": {
      "text/html": [
       "<div>\n",
       "<style scoped>\n",
       "    .dataframe tbody tr th:only-of-type {\n",
       "        vertical-align: middle;\n",
       "    }\n",
       "\n",
       "    .dataframe tbody tr th {\n",
       "        vertical-align: top;\n",
       "    }\n",
       "\n",
       "    .dataframe thead th {\n",
       "        text-align: right;\n",
       "    }\n",
       "</style>\n",
       "<table border=\"1\" class=\"dataframe\">\n",
       "  <thead>\n",
       "    <tr style=\"text-align: right;\">\n",
       "      <th></th>\n",
       "      <th>Gene One</th>\n",
       "      <th>Gene Two</th>\n",
       "      <th>Cancer Present</th>\n",
       "    </tr>\n",
       "  </thead>\n",
       "  <tbody>\n",
       "    <tr>\n",
       "      <th>0</th>\n",
       "      <td>4.3</td>\n",
       "      <td>3.9</td>\n",
       "      <td>1</td>\n",
       "    </tr>\n",
       "    <tr>\n",
       "      <th>1</th>\n",
       "      <td>2.5</td>\n",
       "      <td>6.3</td>\n",
       "      <td>0</td>\n",
       "    </tr>\n",
       "    <tr>\n",
       "      <th>2</th>\n",
       "      <td>5.7</td>\n",
       "      <td>3.9</td>\n",
       "      <td>1</td>\n",
       "    </tr>\n",
       "    <tr>\n",
       "      <th>3</th>\n",
       "      <td>6.1</td>\n",
       "      <td>6.2</td>\n",
       "      <td>0</td>\n",
       "    </tr>\n",
       "    <tr>\n",
       "      <th>4</th>\n",
       "      <td>7.4</td>\n",
       "      <td>3.4</td>\n",
       "      <td>1</td>\n",
       "    </tr>\n",
       "    <tr>\n",
       "      <th>...</th>\n",
       "      <td>...</td>\n",
       "      <td>...</td>\n",
       "      <td>...</td>\n",
       "    </tr>\n",
       "    <tr>\n",
       "      <th>2133</th>\n",
       "      <td>5.0</td>\n",
       "      <td>6.5</td>\n",
       "      <td>1</td>\n",
       "    </tr>\n",
       "    <tr>\n",
       "      <th>2134</th>\n",
       "      <td>3.4</td>\n",
       "      <td>6.6</td>\n",
       "      <td>0</td>\n",
       "    </tr>\n",
       "    <tr>\n",
       "      <th>2135</th>\n",
       "      <td>2.7</td>\n",
       "      <td>6.5</td>\n",
       "      <td>0</td>\n",
       "    </tr>\n",
       "    <tr>\n",
       "      <th>2136</th>\n",
       "      <td>3.3</td>\n",
       "      <td>5.6</td>\n",
       "      <td>0</td>\n",
       "    </tr>\n",
       "    <tr>\n",
       "      <th>2137</th>\n",
       "      <td>4.6</td>\n",
       "      <td>8.2</td>\n",
       "      <td>0</td>\n",
       "    </tr>\n",
       "  </tbody>\n",
       "</table>\n",
       "<p>2138 rows × 3 columns</p>\n",
       "</div>"
      ],
      "text/plain": [
       "      Gene One  Gene Two  Cancer Present\n",
       "0          4.3       3.9               1\n",
       "1          2.5       6.3               0\n",
       "2          5.7       3.9               1\n",
       "3          6.1       6.2               0\n",
       "4          7.4       3.4               1\n",
       "...        ...       ...             ...\n",
       "2133       5.0       6.5               1\n",
       "2134       3.4       6.6               0\n",
       "2135       2.7       6.5               0\n",
       "2136       3.3       5.6               0\n",
       "2137       4.6       8.2               0\n",
       "\n",
       "[2138 rows x 3 columns]"
      ]
     },
     "execution_count": 2,
     "metadata": {},
     "output_type": "execute_result"
    }
   ],
   "source": [
    "df = pd.read_excel(r\"D:\\Jupyter\\Data Science\\ML\\SUPERVISIED LEARNING\\CLASSIFICATION\\CANCER DATASET\\cancer.xlsx\")\n",
    "df"
   ]
  },
  {
   "cell_type": "code",
   "execution_count": 3,
   "id": "9debd26e-c54b-4c1f-9ebf-b1cb437bee5d",
   "metadata": {},
   "outputs": [
    {
     "data": {
      "text/plain": [
       "Cancer Present\n",
       "0    1076\n",
       "1    1062\n",
       "Name: count, dtype: int64"
      ]
     },
     "execution_count": 3,
     "metadata": {},
     "output_type": "execute_result"
    }
   ],
   "source": [
    "df['Cancer Present'].value_counts()"
   ]
  },
  {
   "cell_type": "code",
   "execution_count": 3,
   "id": "e87ea074-d668-490b-be77-2195d7a48c74",
   "metadata": {},
   "outputs": [],
   "source": [
    "X = df.drop('Cancer Present',axis=1)\n",
    "y = df['Cancer Present']"
   ]
  },
  {
   "cell_type": "code",
   "execution_count": 4,
   "id": "dd49f032-a01d-4b8c-9454-de9381a43cab",
   "metadata": {},
   "outputs": [],
   "source": [
    "from sklearn.model_selection import train_test_split\n",
    "X_train,X_test,y_train,y_test = train_test_split(X,y,test_size=0.2,random_state=True)"
   ]
  },
  {
   "cell_type": "markdown",
   "id": "91f82a75-163e-4c3d-99bc-d8f5007382cc",
   "metadata": {},
   "source": [
    "# WITH PCA"
   ]
  },
  {
   "cell_type": "code",
   "execution_count": 5,
   "id": "e06993b2-abcd-4a85-9140-bff9f9bdbdf4",
   "metadata": {},
   "outputs": [],
   "source": [
    "from sklearn.decomposition import PCA\n",
    "pca_model = PCA(n_components=0.95)\n",
    "X_train_pca = pca_model.fit_transform(X_train)\n",
    "X_test_pca =pca_model.transform(X_test)"
   ]
  },
  {
   "cell_type": "code",
   "execution_count": 6,
   "id": "f2078521-106a-4f3b-956c-5e91058441b9",
   "metadata": {},
   "outputs": [
    {
     "data": {
      "text/plain": [
       "array([0.67387806, 0.32612194])"
      ]
     },
     "execution_count": 6,
     "metadata": {},
     "output_type": "execute_result"
    }
   ],
   "source": [
    "pca_model.explained_variance_ratio_"
   ]
  },
  {
   "cell_type": "markdown",
   "id": "01bf1832-3c51-444a-a2b1-2cee5393f8f2",
   "metadata": {},
   "source": [
    "# LOGISTIC REGREESION WITH PCA"
   ]
  },
  {
   "cell_type": "code",
   "execution_count": 13,
   "id": "1e067141-a15f-4c0c-ba2d-8f2ea06c6eff",
   "metadata": {},
   "outputs": [
    {
     "name": "stdout",
     "output_type": "stream",
     "text": [
      "train accuracy 0.843859649122807\n",
      "testaccuracy 0.8574766355140186\n"
     ]
    }
   ],
   "source": [
    "from sklearn.linear_model import LogisticRegression\n",
    "log_reg = LogisticRegression()\n",
    "log_reg.fit(X_train_pca,y_train)\n",
    "\n",
    "ypred_train = log_reg.predict(X_train_pca)\n",
    "ypred_test = log_reg.predict(X_test_pca)\n",
    "# train accuarcy\n",
    "from sklearn.metrics import accuracy_score\n",
    "print('train accuracy',accuracy_score(y_train,ypred_train))\n",
    "# test accuracy\n",
    "\n",
    "print('testaccuracy',accuracy_score(y_test,ypred_test))\n"
   ]
  },
  {
   "cell_type": "markdown",
   "id": "67de0b2f-0cf1-4610-83b1-666020984bc1",
   "metadata": {},
   "source": [
    "# KNN WITH PCA"
   ]
  },
  {
   "cell_type": "code",
   "execution_count": 8,
   "id": "df7ca18b-491a-4a40-9555-598377b3243d",
   "metadata": {},
   "outputs": [
    {
     "name": "stdout",
     "output_type": "stream",
     "text": [
      "train accuracy 0.9251461988304094\n",
      "test accuracy 0.9135514018691588\n"
     ]
    }
   ],
   "source": [
    "#modelling\n",
    "from sklearn.neighbors import KNeighborsClassifier\n",
    "knn_pca_model = KNeighborsClassifier()\n",
    "knn_pca_model.fit(X_train_pca,y_train)\n",
    "\n",
    "#prediction \n",
    "y_pred_test = knn_pca_model.predict(X_test_pca)\n",
    "y_pred_train = knn_pca_model.predict(X_train_pca)\n",
    "\n",
    "#Evalution \n",
    "from sklearn.metrics import accuracy_score\n",
    "print('train accuracy',accuracy_score(y_train,y_pred_train))\n",
    "print('test accuracy',accuracy_score(y_test,y_pred_test))\n",
    "\n"
   ]
  },
  {
   "cell_type": "markdown",
   "id": "29ed1321-2317-4cef-999e-f5a482ce1bbe",
   "metadata": {},
   "source": [
    "# SVM WITH PCA"
   ]
  },
  {
   "cell_type": "code",
   "execution_count": 15,
   "id": "110f2aeb-6fb7-40f0-aa66-32938635d511",
   "metadata": {},
   "outputs": [
    {
     "name": "stdout",
     "output_type": "stream",
     "text": [
      "train: 0.843859649122807\n",
      "test: 0.8574766355140186\n"
     ]
    }
   ],
   "source": [
    "from sklearn.svm import SVC\n",
    "model = SVC(kernel = 'linear',C =10)\n",
    "model.fit(X_train_pca,y_train)\n",
    "y_pred_train = model.predict(X_train_pca)\n",
    "y_pred_test = model.predict(X_test_pca)\n",
    "\n",
    "print('train:',accuracy_score(y_train,ypred_train))\n",
    "print(\"test:\",accuracy_score(y_test,ypred_test))"
   ]
  },
  {
   "cell_type": "markdown",
   "id": "d9eda38d-e984-4aa4-a7c9-9d2514574a7f",
   "metadata": {},
   "source": [
    "# DECSION TREE WITH PCA"
   ]
  },
  {
   "cell_type": "code",
   "execution_count": 16,
   "id": "5cafc16b-e512-4bc4-aa5c-f030166d57a4",
   "metadata": {},
   "outputs": [
    {
     "name": "stdout",
     "output_type": "stream",
     "text": [
      "train accuracy 0.8994152046783626\n",
      "test accuracy 0.8855140186915887\n"
     ]
    }
   ],
   "source": [
    "from sklearn.tree import DecisionTreeClassifier\n",
    "model= DecisionTreeClassifier(criterion='gini',max_depth= 3,random_state=True)\n",
    "model.fit(X_train_pca,y_train) \n",
    "\n",
    "ypred_train = model.predict(X_train_pca)\n",
    "ybase_pred = model.predict(X_test_pca)\n",
    "\n",
    "from sklearn.metrics import accuracy_score\n",
    "print('train accuracy',accuracy_score(ypred_train,y_train))\n",
    "print('test accuracy',accuracy_score(ybase_pred,y_test))\n"
   ]
  },
  {
   "cell_type": "markdown",
   "id": "3dd3e0d0-cfbf-49f7-904d-9420eba29407",
   "metadata": {},
   "source": [
    "# RANDOM FOREST WITH PCA"
   ]
  },
  {
   "cell_type": "code",
   "execution_count": 17,
   "id": "28b67516-5033-4497-b26b-b7c6bcdc5a80",
   "metadata": {},
   "outputs": [
    {
     "name": "stdout",
     "output_type": "stream",
     "text": [
      "train accuracy 0.9690058479532164\n",
      "test accuracy 0.8785046728971962\n"
     ]
    }
   ],
   "source": [
    "#modelling\n",
    "from sklearn.ensemble import RandomForestClassifier\n",
    "rf_pca_default = RandomForestClassifier(random_state=True)\n",
    "rf_pca_default.fit(X_train_pca,y_train)\n",
    "#prediction\n",
    "pred_train = rf_pca_default.predict(X_train_pca)\n",
    "base_pred = rf_pca_default.predict(X_test_pca)\n",
    "#evaluation\n",
    "from sklearn.metrics import accuracy_score\n",
    "print('train accuracy',accuracy_score(pred_train,y_train))\n",
    "print('test accuracy',accuracy_score(base_pred,y_test))\n"
   ]
  },
  {
   "cell_type": "markdown",
   "id": "469b10a8-6a11-49fe-929a-3d648f80f711",
   "metadata": {},
   "source": [
    "# ADA BOOST WITH PCA"
   ]
  },
  {
   "cell_type": "code",
   "execution_count": 20,
   "id": "36d5192c-67e5-45d0-8577-94525e4e1155",
   "metadata": {},
   "outputs": [
    {
     "data": {
      "text/plain": [
       "{'n_estimators': 13}"
      ]
     },
     "execution_count": 20,
     "metadata": {},
     "output_type": "execute_result"
    }
   ],
   "source": [
    "from sklearn.model_selection import GridSearchCV\n",
    "\n",
    "#model\n",
    "from sklearn.ensemble import AdaBoostClassifier\n",
    "estimator_ab = AdaBoostClassifier(random_state= True)\n",
    "\n",
    "#parameters(which you want to tune and identify the best)\n",
    "param_grid_ab ={'n_estimators':list(range(1,20))}\n",
    "\n",
    "#grid search\n",
    "grid_ab = GridSearchCV(estimator_ab,param_grid_ab,scoring ='accuracy',cv= 5)\n",
    "grid_ab.fit(X_train,y_train)\n",
    "\n",
    "# best parameters for adaboost model\n",
    "grid_ab.best_params_"
   ]
  },
  {
   "cell_type": "code",
   "execution_count": 21,
   "id": "f19c9cb3-a4c6-4848-96c4-a85480e42507",
   "metadata": {},
   "outputs": [
    {
     "data": {
      "text/plain": [
       "array([0.61538462, 0.38461538])"
      ]
     },
     "execution_count": 21,
     "metadata": {},
     "output_type": "execute_result"
    }
   ],
   "source": [
    "grid_ab.best_estimator_.feature_importances_"
   ]
  },
  {
   "cell_type": "code",
   "execution_count": 22,
   "id": "fbd498bb-2402-4f7e-b2c3-3e354102cb31",
   "metadata": {},
   "outputs": [
    {
     "data": {
      "text/plain": [
       "['Gene One', 'Gene Two']"
      ]
     },
     "execution_count": 22,
     "metadata": {},
     "output_type": "execute_result"
    }
   ],
   "source": [
    "s1 = pd.DataFrame(grid_ab.best_estimator_.feature_importances_,\n",
    "                  columns=['featureimportance'],\n",
    "                  index = X.columns)\n",
    "imp_features_list_ab = s1[s1['featureimportance']>0].index.to_list()\n",
    "imp_features_list_ab\n",
    "                "
   ]
  },
  {
   "cell_type": "code",
   "execution_count": 25,
   "id": "535477fa-6511-425a-9aa8-a97f219a179b",
   "metadata": {},
   "outputs": [
    {
     "name": "stdout",
     "output_type": "stream",
     "text": [
      "trainaccuracy: 0.5555555555555556\n",
      "testaccuracy: 0.49065420560747663\n"
     ]
    }
   ],
   "source": [
    "from sklearn.model_selection import train_test_split\n",
    "from sklearn.ensemble import AdaBoostClassifier\n",
    "from sklearn.metrics import accuracy_score\n",
    "from sklearn.model_selection import cross_val_score\n",
    "\n",
    "\n",
    "\n",
    "# Ensure `X_imp` and `y` have the same number of rows\n",
    "X_imp = X[imp_features_list_ab]\n",
    "\n",
    "# Correct order of train_test_split\n",
    "X_train_ab, X_test_ab, y_train_ab, y_test_ab = train_test_split(X_imp, y, test_size=0.2, random_state=42)\n",
    "\n",
    "# Initialize and train AdaBoostClassifier\n",
    "ada = AdaBoostClassifier(n_estimators=9, random_state=42)\n",
    "ada.fit(X_train_pca, y_train_ab)\n",
    "\n",
    "# Predictions\n",
    "ypred_train_ab = ada.predict(X_train_pca)\n",
    "ypred_test_ab = ada.predict(X_test_pca)\n",
    "\n",
    "# Train accuracy\n",
    "print('trainaccuracy:', accuracy_score(y_train_ab, ypred_train_ab))\n",
    "\n",
    "# Test accuracy\n",
    "print('testaccuracy:', accuracy_score(y_test_ab, ypred_test_ab))\n"
   ]
  },
  {
   "cell_type": "code",
   "execution_count": null,
   "id": "a9e42fc9-7c2b-4509-aa32-649673e249a7",
   "metadata": {},
   "outputs": [],
   "source": []
  }
 ],
 "metadata": {
  "kernelspec": {
   "display_name": "Python 3 (ipykernel)",
   "language": "python",
   "name": "python3"
  },
  "language_info": {
   "codemirror_mode": {
    "name": "ipython",
    "version": 3
   },
   "file_extension": ".py",
   "mimetype": "text/x-python",
   "name": "python",
   "nbconvert_exporter": "python",
   "pygments_lexer": "ipython3",
   "version": "3.12.4"
  }
 },
 "nbformat": 4,
 "nbformat_minor": 5
}
