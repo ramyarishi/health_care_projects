{
 "cells": [
  {
   "cell_type": "code",
   "execution_count": 1,
   "id": "7c126ec5-41bd-41d9-81e9-34e47fb07250",
   "metadata": {},
   "outputs": [],
   "source": [
    "import numpy as np\n",
    "import pandas as pd\n",
    "import matplotlib.pyplot as plt\n",
    "import seaborn as sns\n",
    "\n",
    "import warnings\n",
    "warnings.simplefilter('ignore')"
   ]
  },
  {
   "cell_type": "code",
   "execution_count": 2,
   "id": "667ac8a7-44eb-44a2-ba27-fd7bd2208995",
   "metadata": {},
   "outputs": [
    {
     "data": {
      "text/html": [
       "<div>\n",
       "<style scoped>\n",
       "    .dataframe tbody tr th:only-of-type {\n",
       "        vertical-align: middle;\n",
       "    }\n",
       "\n",
       "    .dataframe tbody tr th {\n",
       "        vertical-align: top;\n",
       "    }\n",
       "\n",
       "    .dataframe thead th {\n",
       "        text-align: right;\n",
       "    }\n",
       "</style>\n",
       "<table border=\"1\" class=\"dataframe\">\n",
       "  <thead>\n",
       "    <tr style=\"text-align: right;\">\n",
       "      <th></th>\n",
       "      <th>Pregnancies</th>\n",
       "      <th>Glucose</th>\n",
       "      <th>BloodPressure</th>\n",
       "      <th>SkinThickness</th>\n",
       "      <th>Insulin</th>\n",
       "      <th>BMI</th>\n",
       "      <th>DiabetesPedigreeFunction</th>\n",
       "      <th>Age</th>\n",
       "      <th>Outcome</th>\n",
       "    </tr>\n",
       "  </thead>\n",
       "  <tbody>\n",
       "    <tr>\n",
       "      <th>0</th>\n",
       "      <td>1</td>\n",
       "      <td>89</td>\n",
       "      <td>66</td>\n",
       "      <td>23</td>\n",
       "      <td>4.546836</td>\n",
       "      <td>28.1</td>\n",
       "      <td>0.408656</td>\n",
       "      <td>2.140695</td>\n",
       "      <td>0</td>\n",
       "    </tr>\n",
       "    <tr>\n",
       "      <th>1</th>\n",
       "      <td>0</td>\n",
       "      <td>137</td>\n",
       "      <td>40</td>\n",
       "      <td>35</td>\n",
       "      <td>5.517848</td>\n",
       "      <td>43.1</td>\n",
       "      <td>1.512614</td>\n",
       "      <td>2.396782</td>\n",
       "      <td>1</td>\n",
       "    </tr>\n",
       "    <tr>\n",
       "      <th>2</th>\n",
       "      <td>3</td>\n",
       "      <td>78</td>\n",
       "      <td>50</td>\n",
       "      <td>32</td>\n",
       "      <td>4.447960</td>\n",
       "      <td>31.0</td>\n",
       "      <td>0.497996</td>\n",
       "      <td>2.258101</td>\n",
       "      <td>1</td>\n",
       "    </tr>\n",
       "    <tr>\n",
       "      <th>3</th>\n",
       "      <td>2</td>\n",
       "      <td>197</td>\n",
       "      <td>70</td>\n",
       "      <td>45</td>\n",
       "      <td>8.158305</td>\n",
       "      <td>30.5</td>\n",
       "      <td>0.397492</td>\n",
       "      <td>2.698168</td>\n",
       "      <td>1</td>\n",
       "    </tr>\n",
       "    <tr>\n",
       "      <th>4</th>\n",
       "      <td>1</td>\n",
       "      <td>189</td>\n",
       "      <td>60</td>\n",
       "      <td>23</td>\n",
       "      <td>9.457800</td>\n",
       "      <td>30.1</td>\n",
       "      <td>0.630872</td>\n",
       "      <td>2.771488</td>\n",
       "      <td>1</td>\n",
       "    </tr>\n",
       "  </tbody>\n",
       "</table>\n",
       "</div>"
      ],
      "text/plain": [
       "   Pregnancies  Glucose  BloodPressure  SkinThickness   Insulin   BMI  \\\n",
       "0            1       89             66             23  4.546836  28.1   \n",
       "1            0      137             40             35  5.517848  43.1   \n",
       "2            3       78             50             32  4.447960  31.0   \n",
       "3            2      197             70             45  8.158305  30.5   \n",
       "4            1      189             60             23  9.457800  30.1   \n",
       "\n",
       "   DiabetesPedigreeFunction       Age  Outcome  \n",
       "0                  0.408656  2.140695        0  \n",
       "1                  1.512614  2.396782        1  \n",
       "2                  0.497996  2.258101        1  \n",
       "3                  0.397492  2.698168        1  \n",
       "4                  0.630872  2.771488        1  "
      ]
     },
     "execution_count": 2,
     "metadata": {},
     "output_type": "execute_result"
    }
   ],
   "source": [
    "df = pd.read_excel(r\"D:\\Jupyter\\Data Science\\ML\\SUPERVISIED LEARNING\\CLASSIFICATION\\DIABETIC DATASET\\cleandiabetic.xlsx\")\n",
    "df.head()"
   ]
  },
  {
   "cell_type": "code",
   "execution_count": 3,
   "id": "bdd7c883-28d5-417e-98dd-3e17428586e4",
   "metadata": {},
   "outputs": [],
   "source": [
    "X = df.drop('Outcome',axis=1)\n",
    "y = df['Outcome']"
   ]
  },
  {
   "cell_type": "code",
   "execution_count": 4,
   "id": "44e0d91a-5c04-46cb-b2ed-697e3545b071",
   "metadata": {},
   "outputs": [],
   "source": [
    "from sklearn.model_selection import train_test_split\n",
    "X_train,X_test,y_train,y_test = train_test_split(X,y,test_size=0.2,random_state=True)"
   ]
  },
  {
   "cell_type": "markdown",
   "id": "e113ad73-6295-4e2f-970a-91d477c4a0b6",
   "metadata": {},
   "source": [
    "# WITH PCA"
   ]
  },
  {
   "cell_type": "code",
   "execution_count": 6,
   "id": "c7779161-3f51-408c-bc2a-31e640e3d6fa",
   "metadata": {},
   "outputs": [],
   "source": [
    "from sklearn.decomposition import PCA\n",
    "pca_model = PCA(n_components=0.95)\n",
    "X_train_pca = pca_model.fit_transform(X_train)\n",
    "X_test_pca =pca_model.transform(X_test)"
   ]
  },
  {
   "cell_type": "code",
   "execution_count": 7,
   "id": "010e76c2-f6b0-4085-a9c3-be5e06ec9cf3",
   "metadata": {},
   "outputs": [
    {
     "data": {
      "text/plain": [
       "array([0.74566143, 0.13917885, 0.09059457])"
      ]
     },
     "execution_count": 7,
     "metadata": {},
     "output_type": "execute_result"
    }
   ],
   "source": [
    "pca_model.explained_variance_ratio_"
   ]
  },
  {
   "cell_type": "markdown",
   "id": "22504436-c188-42c9-b67b-86783f8e5477",
   "metadata": {},
   "source": [
    "# LOGISTIC REGREESION WITH PCA"
   ]
  },
  {
   "cell_type": "code",
   "execution_count": 8,
   "id": "6c2f293c-df3f-4422-8cec-2489d673325a",
   "metadata": {},
   "outputs": [
    {
     "name": "stdout",
     "output_type": "stream",
     "text": [
      "train accuracy 0.7859424920127795\n",
      "testaccuracy 0.759493670886076\n"
     ]
    }
   ],
   "source": [
    "from sklearn.linear_model import LogisticRegression\n",
    "log_reg = LogisticRegression()\n",
    "log_reg.fit(X_train_pca,y_train)\n",
    "\n",
    "ypred_train = log_reg.predict(X_train_pca)\n",
    "ypred_test = log_reg.predict(X_test_pca)\n",
    "# train accuarcy\n",
    "from sklearn.metrics import accuracy_score\n",
    "print('train accuracy',accuracy_score(y_train,ypred_train))\n",
    "# test accuracy\n",
    "\n",
    "print('testaccuracy',accuracy_score(y_test,ypred_test))\n"
   ]
  },
  {
   "cell_type": "markdown",
   "id": "f1d65aca-1329-4fcc-babb-a5aecf9cbfd4",
   "metadata": {},
   "source": [
    "# KNN WITH PCA"
   ]
  },
  {
   "cell_type": "code",
   "execution_count": 9,
   "id": "09d7a1e5-029f-4f00-98f9-c5424104ab63",
   "metadata": {},
   "outputs": [
    {
     "name": "stdout",
     "output_type": "stream",
     "text": [
      "train accuracy 0.8274760383386581\n",
      "test accuracy 0.6962025316455697\n"
     ]
    }
   ],
   "source": [
    "#modelling\n",
    "from sklearn.neighbors import KNeighborsClassifier\n",
    "knn_pca_model = KNeighborsClassifier()\n",
    "knn_pca_model.fit(X_train_pca,y_train)\n",
    "\n",
    "#prediction \n",
    "y_pred_test = knn_pca_model.predict(X_test_pca)\n",
    "y_pred_train = knn_pca_model.predict(X_train_pca)\n",
    "\n",
    "#Evalution \n",
    "from sklearn.metrics import accuracy_score\n",
    "print('train accuracy',accuracy_score(y_train,y_pred_train))\n",
    "print('test accuracy',accuracy_score(y_test,y_pred_test))\n",
    "\n"
   ]
  },
  {
   "cell_type": "markdown",
   "id": "a92b6a93-3d80-44cf-b6ef-6230c4662d01",
   "metadata": {},
   "source": [
    "# SVM WITH PCA"
   ]
  },
  {
   "cell_type": "code",
   "execution_count": 10,
   "id": "b5fb6d72-cb1b-4a9f-880a-82fc02bc1a39",
   "metadata": {},
   "outputs": [
    {
     "name": "stdout",
     "output_type": "stream",
     "text": [
      "train: 0.7859424920127795\n",
      "test: 0.759493670886076\n"
     ]
    }
   ],
   "source": [
    "from sklearn.svm import SVC\n",
    "model = SVC(kernel = 'linear',C =10)\n",
    "model.fit(X_train_pca,y_train)\n",
    "y_pred_train = model.predict(X_train_pca)\n",
    "y_pred_test = model.predict(X_test_pca)\n",
    "\n",
    "print('train:',accuracy_score(y_train,ypred_train))\n",
    "print(\"test:\",accuracy_score(y_test,ypred_test))"
   ]
  },
  {
   "cell_type": "markdown",
   "id": "d312aa4f-856c-4b41-91e8-c52fb783f0e8",
   "metadata": {},
   "source": [
    "# DECSION TREE WITH PCA"
   ]
  },
  {
   "cell_type": "code",
   "execution_count": 11,
   "id": "dcf930c2-db39-4500-af69-5862a92a3110",
   "metadata": {},
   "outputs": [
    {
     "name": "stdout",
     "output_type": "stream",
     "text": [
      "train accuracy 0.8115015974440895\n",
      "test accuracy 0.7848101265822784\n"
     ]
    }
   ],
   "source": [
    "from sklearn.tree import DecisionTreeClassifier\n",
    "model= DecisionTreeClassifier(criterion='gini',max_depth= 3,random_state=True)\n",
    "model.fit(X_train_pca,y_train) \n",
    "\n",
    "ypred_train = model.predict(X_train_pca)\n",
    "ybase_pred = model.predict(X_test_pca)\n",
    "\n",
    "from sklearn.metrics import accuracy_score\n",
    "print('train accuracy',accuracy_score(ypred_train,y_train))\n",
    "print('test accuracy',accuracy_score(ybase_pred,y_test))\n"
   ]
  },
  {
   "cell_type": "markdown",
   "id": "a67b80e4-6a5b-4334-9114-f758ae9d90dd",
   "metadata": {},
   "source": [
    "# RANDOM FOREST WITH PCA"
   ]
  },
  {
   "cell_type": "code",
   "execution_count": 12,
   "id": "2e2e78f7-ef6c-4d8d-a587-ccdbe4e39374",
   "metadata": {},
   "outputs": [
    {
     "name": "stdout",
     "output_type": "stream",
     "text": [
      "train accuracy 1.0\n",
      "test accuracy 0.7468354430379747\n"
     ]
    }
   ],
   "source": [
    "#modelling\n",
    "from sklearn.ensemble import RandomForestClassifier\n",
    "rf_pca_default = RandomForestClassifier(random_state=True)\n",
    "rf_pca_default.fit(X_train_pca,y_train)\n",
    "#prediction\n",
    "pred_train = rf_pca_default.predict(X_train_pca)\n",
    "base_pred = rf_pca_default.predict(X_test_pca)\n",
    "#evaluation\n",
    "from sklearn.metrics import accuracy_score\n",
    "print('train accuracy',accuracy_score(pred_train,y_train))\n",
    "print('test accuracy',accuracy_score(base_pred,y_test))\n"
   ]
  },
  {
   "cell_type": "markdown",
   "id": "e53f9096-a662-48c2-96c3-f25366dea464",
   "metadata": {},
   "source": [
    "# ADA BOOST WITH PCA"
   ]
  },
  {
   "cell_type": "code",
   "execution_count": 13,
   "id": "dc557f03-dc94-4e4b-953a-47cb7d44d1f6",
   "metadata": {},
   "outputs": [
    {
     "data": {
      "text/plain": [
       "{'n_estimators': 5}"
      ]
     },
     "execution_count": 13,
     "metadata": {},
     "output_type": "execute_result"
    }
   ],
   "source": [
    "from sklearn.model_selection import GridSearchCV\n",
    "\n",
    "#model\n",
    "from sklearn.ensemble import AdaBoostClassifier\n",
    "estimator_ab = AdaBoostClassifier(random_state= True)\n",
    "\n",
    "#parameters(which you want to tune and identify the best)\n",
    "param_grid_ab ={'n_estimators':list(range(1,20))}\n",
    "\n",
    "#grid search\n",
    "grid_ab = GridSearchCV(estimator_ab,param_grid_ab,scoring ='accuracy',cv= 5)\n",
    "grid_ab.fit(X_train,y_train)\n",
    "\n",
    "# best parameters for adaboost model\n",
    "grid_ab.best_params_"
   ]
  },
  {
   "cell_type": "code",
   "execution_count": 14,
   "id": "664e0c40-4c93-4ad4-9568-fa15fb70df06",
   "metadata": {},
   "outputs": [
    {
     "data": {
      "text/plain": [
       "array([0. , 0.4, 0. , 0. , 0. , 0.2, 0.2, 0.2])"
      ]
     },
     "execution_count": 14,
     "metadata": {},
     "output_type": "execute_result"
    }
   ],
   "source": [
    "grid_ab.best_estimator_.feature_importances_"
   ]
  },
  {
   "cell_type": "code",
   "execution_count": 15,
   "id": "0b8ecd66-06cf-430e-8916-21dbc626e367",
   "metadata": {},
   "outputs": [
    {
     "data": {
      "text/plain": [
       "['Glucose', 'BMI', 'DiabetesPedigreeFunction', 'Age']"
      ]
     },
     "execution_count": 15,
     "metadata": {},
     "output_type": "execute_result"
    }
   ],
   "source": [
    "s1 = pd.DataFrame(grid_ab.best_estimator_.feature_importances_,\n",
    "                  columns=['featureimportance'],\n",
    "                  index = X.columns)\n",
    "imp_features_list_ab = s1[s1['featureimportance']>0].index.to_list()\n",
    "imp_features_list_ab\n",
    "                "
   ]
  },
  {
   "cell_type": "code",
   "execution_count": 16,
   "id": "3b999d76-5f3c-4780-bdcf-7004e560e538",
   "metadata": {},
   "outputs": [
    {
     "name": "stdout",
     "output_type": "stream",
     "text": [
      "trainaccuracy: 0.7060702875399361\n",
      "testaccuracy: 0.6075949367088608\n"
     ]
    }
   ],
   "source": [
    "from sklearn.model_selection import train_test_split\n",
    "from sklearn.ensemble import AdaBoostClassifier\n",
    "from sklearn.metrics import accuracy_score\n",
    "from sklearn.model_selection import cross_val_score\n",
    "\n",
    "\n",
    "\n",
    "# Ensure `X_imp` and `y` have the same number of rows\n",
    "X_imp = X[imp_features_list_ab]\n",
    "\n",
    "# Correct order of train_test_split\n",
    "X_train_ab, X_test_ab, y_train_ab, y_test_ab = train_test_split(X_imp, y, test_size=0.2, random_state=42)\n",
    "\n",
    "# Initialize and train AdaBoostClassifier\n",
    "ada = AdaBoostClassifier(n_estimators=9, random_state=42)\n",
    "ada.fit(X_train_pca, y_train_ab)\n",
    "\n",
    "# Predictions\n",
    "ypred_train_ab = ada.predict(X_train_pca)\n",
    "ypred_test_ab = ada.predict(X_test_pca)\n",
    "\n",
    "# Train accuracy\n",
    "print('trainaccuracy:', accuracy_score(y_train_ab, ypred_train_ab))\n",
    "\n",
    "# Test accuracy\n",
    "print('testaccuracy:', accuracy_score(y_test_ab, ypred_test_ab))\n"
   ]
  },
  {
   "cell_type": "code",
   "execution_count": null,
   "id": "702718fd-9adc-48f5-bd57-e209348a2841",
   "metadata": {},
   "outputs": [],
   "source": []
  }
 ],
 "metadata": {
  "kernelspec": {
   "display_name": "Python 3 (ipykernel)",
   "language": "python",
   "name": "python3"
  },
  "language_info": {
   "codemirror_mode": {
    "name": "ipython",
    "version": 3
   },
   "file_extension": ".py",
   "mimetype": "text/x-python",
   "name": "python",
   "nbconvert_exporter": "python",
   "pygments_lexer": "ipython3",
   "version": "3.12.4"
  }
 },
 "nbformat": 4,
 "nbformat_minor": 5
}
