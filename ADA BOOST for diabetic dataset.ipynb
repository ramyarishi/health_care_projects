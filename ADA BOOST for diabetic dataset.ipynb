{
 "cells": [
  {
   "cell_type": "code",
   "execution_count": 1,
   "id": "1a5a8a8e-57ca-4664-b616-40746673a8a0",
   "metadata": {},
   "outputs": [],
   "source": [
    "import numpy as np\n",
    "import pandas as pd\n",
    "import matplotlib.pyplot as plt\n",
    "import seaborn as sns\n",
    "\n",
    "import warnings\n",
    "warnings.simplefilter('ignore')"
   ]
  },
  {
   "cell_type": "code",
   "execution_count": 2,
   "id": "bd857285-2c00-4cc1-b6f3-cf10118ce68a",
   "metadata": {},
   "outputs": [
    {
     "data": {
      "text/html": [
       "<div>\n",
       "<style scoped>\n",
       "    .dataframe tbody tr th:only-of-type {\n",
       "        vertical-align: middle;\n",
       "    }\n",
       "\n",
       "    .dataframe tbody tr th {\n",
       "        vertical-align: top;\n",
       "    }\n",
       "\n",
       "    .dataframe thead th {\n",
       "        text-align: right;\n",
       "    }\n",
       "</style>\n",
       "<table border=\"1\" class=\"dataframe\">\n",
       "  <thead>\n",
       "    <tr style=\"text-align: right;\">\n",
       "      <th></th>\n",
       "      <th>Pregnancies</th>\n",
       "      <th>Glucose</th>\n",
       "      <th>BloodPressure</th>\n",
       "      <th>SkinThickness</th>\n",
       "      <th>Insulin</th>\n",
       "      <th>BMI</th>\n",
       "      <th>DiabetesPedigreeFunction</th>\n",
       "      <th>Age</th>\n",
       "      <th>Outcome</th>\n",
       "    </tr>\n",
       "  </thead>\n",
       "  <tbody>\n",
       "    <tr>\n",
       "      <th>0</th>\n",
       "      <td>1</td>\n",
       "      <td>89</td>\n",
       "      <td>66</td>\n",
       "      <td>23</td>\n",
       "      <td>4.546836</td>\n",
       "      <td>28.1</td>\n",
       "      <td>0.408656</td>\n",
       "      <td>2.140695</td>\n",
       "      <td>0</td>\n",
       "    </tr>\n",
       "    <tr>\n",
       "      <th>1</th>\n",
       "      <td>0</td>\n",
       "      <td>137</td>\n",
       "      <td>40</td>\n",
       "      <td>35</td>\n",
       "      <td>5.517848</td>\n",
       "      <td>43.1</td>\n",
       "      <td>1.512614</td>\n",
       "      <td>2.396782</td>\n",
       "      <td>1</td>\n",
       "    </tr>\n",
       "    <tr>\n",
       "      <th>2</th>\n",
       "      <td>3</td>\n",
       "      <td>78</td>\n",
       "      <td>50</td>\n",
       "      <td>32</td>\n",
       "      <td>4.447960</td>\n",
       "      <td>31.0</td>\n",
       "      <td>0.497996</td>\n",
       "      <td>2.258101</td>\n",
       "      <td>1</td>\n",
       "    </tr>\n",
       "    <tr>\n",
       "      <th>3</th>\n",
       "      <td>2</td>\n",
       "      <td>197</td>\n",
       "      <td>70</td>\n",
       "      <td>45</td>\n",
       "      <td>8.158305</td>\n",
       "      <td>30.5</td>\n",
       "      <td>0.397492</td>\n",
       "      <td>2.698168</td>\n",
       "      <td>1</td>\n",
       "    </tr>\n",
       "    <tr>\n",
       "      <th>4</th>\n",
       "      <td>1</td>\n",
       "      <td>189</td>\n",
       "      <td>60</td>\n",
       "      <td>23</td>\n",
       "      <td>9.457800</td>\n",
       "      <td>30.1</td>\n",
       "      <td>0.630872</td>\n",
       "      <td>2.771488</td>\n",
       "      <td>1</td>\n",
       "    </tr>\n",
       "  </tbody>\n",
       "</table>\n",
       "</div>"
      ],
      "text/plain": [
       "   Pregnancies  Glucose  BloodPressure  SkinThickness   Insulin   BMI  \\\n",
       "0            1       89             66             23  4.546836  28.1   \n",
       "1            0      137             40             35  5.517848  43.1   \n",
       "2            3       78             50             32  4.447960  31.0   \n",
       "3            2      197             70             45  8.158305  30.5   \n",
       "4            1      189             60             23  9.457800  30.1   \n",
       "\n",
       "   DiabetesPedigreeFunction       Age  Outcome  \n",
       "0                  0.408656  2.140695        0  \n",
       "1                  1.512614  2.396782        1  \n",
       "2                  0.497996  2.258101        1  \n",
       "3                  0.397492  2.698168        1  \n",
       "4                  0.630872  2.771488        1  "
      ]
     },
     "execution_count": 2,
     "metadata": {},
     "output_type": "execute_result"
    }
   ],
   "source": [
    "df = pd.read_excel(r\"D:\\Jupyter\\Data Science\\ML\\SUPERVISIED LEARNING\\CLASSIFICATION\\DIABETIC DATASET\\cleandiabetic.xlsx\")\n",
    "df.head()"
   ]
  },
  {
   "cell_type": "code",
   "execution_count": 4,
   "id": "a689125e-2791-4482-bb5b-11cdfa340ea5",
   "metadata": {},
   "outputs": [
    {
     "data": {
      "text/plain": [
       "(392, 9)"
      ]
     },
     "execution_count": 4,
     "metadata": {},
     "output_type": "execute_result"
    }
   ],
   "source": [
    "df.shape"
   ]
  },
  {
   "cell_type": "code",
   "execution_count": 3,
   "id": "6296dd3f-5425-4db3-9117-088e9462205d",
   "metadata": {},
   "outputs": [],
   "source": [
    "X = df.drop('Outcome',axis=1)\n",
    "y = df['Outcome']"
   ]
  },
  {
   "cell_type": "code",
   "execution_count": 6,
   "id": "f6c7ea6b-83b0-4a01-8cca-046a40385f24",
   "metadata": {},
   "outputs": [],
   "source": [
    "from sklearn.model_selection import train_test_split\n",
    "X_train,X_test,y_train,y_test = train_test_split(X,y,test_size=0.2,random_state=True)"
   ]
  },
  {
   "cell_type": "markdown",
   "id": "0e049ba6-285a-4560-86a0-8eb8995ee0eb",
   "metadata": {},
   "source": [
    "# adaboost\n",
    "- applying hyperparameter tuning for identifying best parameters for adaboost\n"
   ]
  },
  {
   "cell_type": "code",
   "execution_count": 7,
   "id": "22f500fa-fa35-4a06-99c2-2f4bd04f62d6",
   "metadata": {},
   "outputs": [
    {
     "data": {
      "text/plain": [
       "{'n_estimators': 5}"
      ]
     },
     "execution_count": 7,
     "metadata": {},
     "output_type": "execute_result"
    }
   ],
   "source": [
    "from sklearn.model_selection import GridSearchCV\n",
    "\n",
    "#model\n",
    "from sklearn.ensemble import AdaBoostClassifier\n",
    "estimator_ab = AdaBoostClassifier(random_state= True)\n",
    "\n",
    "#parameters(which you want to tune and identify the best)\n",
    "param_grid_ab ={'n_estimators':list(range(1,11))}\n",
    "\n",
    "#grid search\n",
    "grid_ab = GridSearchCV(estimator_ab,param_grid_ab,scoring ='accuracy',cv= 5)\n",
    "grid_ab.fit(X_train,y_train)\n",
    "\n",
    "# best parameters for adaboost model\n",
    "grid_ab.best_params_"
   ]
  },
  {
   "cell_type": "code",
   "execution_count": 8,
   "id": "2b1b5f53-d3d6-41bb-8df9-107ec71321a2",
   "metadata": {},
   "outputs": [],
   "source": [
    "# ada boost model import features"
   ]
  },
  {
   "cell_type": "code",
   "execution_count": 9,
   "id": "96c10c9e-faab-452d-b2f8-5c6de0f7ff87",
   "metadata": {},
   "outputs": [
    {
     "data": {
      "text/plain": [
       "array([0. , 0.4, 0. , 0. , 0. , 0.2, 0.2, 0.2])"
      ]
     },
     "execution_count": 9,
     "metadata": {},
     "output_type": "execute_result"
    }
   ],
   "source": [
    "grid_ab.best_estimator_.feature_importances_"
   ]
  },
  {
   "cell_type": "code",
   "execution_count": 10,
   "id": "f22aed43-777e-435a-9e28-7751156192aa",
   "metadata": {},
   "outputs": [
    {
     "data": {
      "text/plain": [
       "['Glucose', 'BMI', 'DiabetesPedigreeFunction', 'Age']"
      ]
     },
     "execution_count": 10,
     "metadata": {},
     "output_type": "execute_result"
    }
   ],
   "source": [
    "s1 = pd.DataFrame(grid_ab.best_estimator_.feature_importances_,\n",
    "                  columns=['featureimportance'],\n",
    "                  index = X.columns)\n",
    "imp_features_list_ab = s1[s1['featureimportance']>0].index.to_list()\n",
    "imp_features_list_ab\n",
    "                "
   ]
  },
  {
   "cell_type": "markdown",
   "id": "38f2c18f-8f7a-42b0-a179-19f87850686a",
   "metadata": {},
   "source": [
    " # ada boost classifier\n",
    "- with important features\n"
   ]
  },
  {
   "cell_type": "code",
   "execution_count": 11,
   "id": "0fa03eab-995b-4b83-a9ba-62358bd605fc",
   "metadata": {},
   "outputs": [
    {
     "name": "stdout",
     "output_type": "stream",
     "text": [
      "trainaccuracy: 0.8242811501597445\n",
      "crossvalidationscore: 0.7735279057859704\n",
      "testaccuracy: 0.7468354430379747\n"
     ]
    }
   ],
   "source": [
    "from sklearn.model_selection import train_test_split\n",
    "from sklearn.ensemble import AdaBoostClassifier\n",
    "from sklearn.metrics import accuracy_score\n",
    "from sklearn.model_selection import cross_val_score\n",
    "\n",
    "\n",
    "\n",
    "# Ensure `X_imp` and `y` have the same number of rows\n",
    "X_imp = X[imp_features_list_ab]\n",
    "\n",
    "# Correct order of train_test_split\n",
    "X_train_ab, X_test_ab, y_train_ab, y_test_ab = train_test_split(X_imp, y, test_size=0.2, random_state=42)\n",
    "\n",
    "# Initialize and train AdaBoostClassifier\n",
    "ada = AdaBoostClassifier(n_estimators=9, random_state=42)\n",
    "ada.fit(X_train_ab, y_train_ab)\n",
    "\n",
    "# Predictions\n",
    "ypred_train_ab = ada.predict(X_train_ab)\n",
    "ypred_test_ab = ada.predict(X_test_ab)\n",
    "\n",
    "# Train accuracy\n",
    "print('trainaccuracy:', accuracy_score(y_train_ab, ypred_train_ab))\n",
    "\n",
    "# Cross-validation score\n",
    "print('crossvalidationscore:', cross_val_score(ada, X_train_ab, y_train_ab, cv=5).mean())\n",
    "\n",
    "# Test accuracy\n",
    "print('testaccuracy:', accuracy_score(y_test_ab, ypred_test_ab))\n"
   ]
  },
  {
   "cell_type": "code",
   "execution_count": null,
   "id": "4fcf7c35-0a34-4ada-b4ab-a04312395a04",
   "metadata": {},
   "outputs": [],
   "source": []
  }
 ],
 "metadata": {
  "kernelspec": {
   "display_name": "Python 3 (ipykernel)",
   "language": "python",
   "name": "python3"
  },
  "language_info": {
   "codemirror_mode": {
    "name": "ipython",
    "version": 3
   },
   "file_extension": ".py",
   "mimetype": "text/x-python",
   "name": "python",
   "nbconvert_exporter": "python",
   "pygments_lexer": "ipython3",
   "version": "3.12.4"
  }
 },
 "nbformat": 4,
 "nbformat_minor": 5
}
