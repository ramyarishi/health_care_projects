{
 "cells": [
  {
   "cell_type": "code",
   "execution_count": 1,
   "id": "3f2fc06e-a54c-4bbe-8598-76d048dd396b",
   "metadata": {},
   "outputs": [],
   "source": [
    "import pandas as pd\n",
    "import numpy as np"
   ]
  },
  {
   "cell_type": "code",
   "execution_count": 2,
   "id": "12cac880-20eb-4f70-a04c-ddb3650bd7c9",
   "metadata": {},
   "outputs": [
    {
     "data": {
      "text/html": [
       "<div>\n",
       "<style scoped>\n",
       "    .dataframe tbody tr th:only-of-type {\n",
       "        vertical-align: middle;\n",
       "    }\n",
       "\n",
       "    .dataframe tbody tr th {\n",
       "        vertical-align: top;\n",
       "    }\n",
       "\n",
       "    .dataframe thead th {\n",
       "        text-align: right;\n",
       "    }\n",
       "</style>\n",
       "<table border=\"1\" class=\"dataframe\">\n",
       "  <thead>\n",
       "    <tr style=\"text-align: right;\">\n",
       "      <th></th>\n",
       "      <th>Pregnancies</th>\n",
       "      <th>Glucose</th>\n",
       "      <th>BloodPressure</th>\n",
       "      <th>SkinThickness</th>\n",
       "      <th>Insulin</th>\n",
       "      <th>BMI</th>\n",
       "      <th>DiabetesPedigreeFunction</th>\n",
       "      <th>Age</th>\n",
       "      <th>Outcome</th>\n",
       "    </tr>\n",
       "  </thead>\n",
       "  <tbody>\n",
       "    <tr>\n",
       "      <th>0</th>\n",
       "      <td>1</td>\n",
       "      <td>89</td>\n",
       "      <td>66</td>\n",
       "      <td>23</td>\n",
       "      <td>4.546836</td>\n",
       "      <td>28.1</td>\n",
       "      <td>0.408656</td>\n",
       "      <td>2.140695</td>\n",
       "      <td>0</td>\n",
       "    </tr>\n",
       "    <tr>\n",
       "      <th>1</th>\n",
       "      <td>0</td>\n",
       "      <td>137</td>\n",
       "      <td>40</td>\n",
       "      <td>35</td>\n",
       "      <td>5.517848</td>\n",
       "      <td>43.1</td>\n",
       "      <td>1.512614</td>\n",
       "      <td>2.396782</td>\n",
       "      <td>1</td>\n",
       "    </tr>\n",
       "    <tr>\n",
       "      <th>2</th>\n",
       "      <td>3</td>\n",
       "      <td>78</td>\n",
       "      <td>50</td>\n",
       "      <td>32</td>\n",
       "      <td>4.447960</td>\n",
       "      <td>31.0</td>\n",
       "      <td>0.497996</td>\n",
       "      <td>2.258101</td>\n",
       "      <td>1</td>\n",
       "    </tr>\n",
       "    <tr>\n",
       "      <th>3</th>\n",
       "      <td>2</td>\n",
       "      <td>197</td>\n",
       "      <td>70</td>\n",
       "      <td>45</td>\n",
       "      <td>8.158305</td>\n",
       "      <td>30.5</td>\n",
       "      <td>0.397492</td>\n",
       "      <td>2.698168</td>\n",
       "      <td>1</td>\n",
       "    </tr>\n",
       "    <tr>\n",
       "      <th>4</th>\n",
       "      <td>1</td>\n",
       "      <td>189</td>\n",
       "      <td>60</td>\n",
       "      <td>23</td>\n",
       "      <td>9.457800</td>\n",
       "      <td>30.1</td>\n",
       "      <td>0.630872</td>\n",
       "      <td>2.771488</td>\n",
       "      <td>1</td>\n",
       "    </tr>\n",
       "    <tr>\n",
       "      <th>...</th>\n",
       "      <td>...</td>\n",
       "      <td>...</td>\n",
       "      <td>...</td>\n",
       "      <td>...</td>\n",
       "      <td>...</td>\n",
       "      <td>...</td>\n",
       "      <td>...</td>\n",
       "      <td>...</td>\n",
       "      <td>...</td>\n",
       "    </tr>\n",
       "    <tr>\n",
       "      <th>387</th>\n",
       "      <td>0</td>\n",
       "      <td>181</td>\n",
       "      <td>88</td>\n",
       "      <td>44</td>\n",
       "      <td>7.989570</td>\n",
       "      <td>43.3</td>\n",
       "      <td>0.471169</td>\n",
       "      <td>2.258101</td>\n",
       "      <td>1</td>\n",
       "    </tr>\n",
       "    <tr>\n",
       "      <th>388</th>\n",
       "      <td>1</td>\n",
       "      <td>128</td>\n",
       "      <td>88</td>\n",
       "      <td>39</td>\n",
       "      <td>4.791420</td>\n",
       "      <td>36.5</td>\n",
       "      <td>1.028105</td>\n",
       "      <td>2.466326</td>\n",
       "      <td>1</td>\n",
       "    </tr>\n",
       "    <tr>\n",
       "      <th>389</th>\n",
       "      <td>2</td>\n",
       "      <td>88</td>\n",
       "      <td>58</td>\n",
       "      <td>26</td>\n",
       "      <td>2.519842</td>\n",
       "      <td>28.4</td>\n",
       "      <td>0.875214</td>\n",
       "      <td>2.165737</td>\n",
       "      <td>0</td>\n",
       "    </tr>\n",
       "    <tr>\n",
       "      <th>390</th>\n",
       "      <td>10</td>\n",
       "      <td>101</td>\n",
       "      <td>76</td>\n",
       "      <td>48</td>\n",
       "      <td>5.646216</td>\n",
       "      <td>32.9</td>\n",
       "      <td>0.413521</td>\n",
       "      <td>2.817313</td>\n",
       "      <td>0</td>\n",
       "    </tr>\n",
       "    <tr>\n",
       "      <th>391</th>\n",
       "      <td>5</td>\n",
       "      <td>121</td>\n",
       "      <td>72</td>\n",
       "      <td>23</td>\n",
       "      <td>4.820285</td>\n",
       "      <td>26.2</td>\n",
       "      <td>0.494975</td>\n",
       "      <td>2.340347</td>\n",
       "      <td>0</td>\n",
       "    </tr>\n",
       "  </tbody>\n",
       "</table>\n",
       "<p>392 rows × 9 columns</p>\n",
       "</div>"
      ],
      "text/plain": [
       "     Pregnancies  Glucose  BloodPressure  SkinThickness   Insulin   BMI  \\\n",
       "0              1       89             66             23  4.546836  28.1   \n",
       "1              0      137             40             35  5.517848  43.1   \n",
       "2              3       78             50             32  4.447960  31.0   \n",
       "3              2      197             70             45  8.158305  30.5   \n",
       "4              1      189             60             23  9.457800  30.1   \n",
       "..           ...      ...            ...            ...       ...   ...   \n",
       "387            0      181             88             44  7.989570  43.3   \n",
       "388            1      128             88             39  4.791420  36.5   \n",
       "389            2       88             58             26  2.519842  28.4   \n",
       "390           10      101             76             48  5.646216  32.9   \n",
       "391            5      121             72             23  4.820285  26.2   \n",
       "\n",
       "     DiabetesPedigreeFunction       Age  Outcome  \n",
       "0                    0.408656  2.140695        0  \n",
       "1                    1.512614  2.396782        1  \n",
       "2                    0.497996  2.258101        1  \n",
       "3                    0.397492  2.698168        1  \n",
       "4                    0.630872  2.771488        1  \n",
       "..                        ...       ...      ...  \n",
       "387                  0.471169  2.258101        1  \n",
       "388                  1.028105  2.466326        1  \n",
       "389                  0.875214  2.165737        0  \n",
       "390                  0.413521  2.817313        0  \n",
       "391                  0.494975  2.340347        0  \n",
       "\n",
       "[392 rows x 9 columns]"
      ]
     },
     "execution_count": 2,
     "metadata": {},
     "output_type": "execute_result"
    }
   ],
   "source": [
    "df = pd.read_excel(r\"D:\\Jupyter\\Data Science\\ML\\SUPERVISIED LEARNING\\CLASSIFICATION\\Diabetic.xlsx\")\n",
    "df"
   ]
  },
  {
   "cell_type": "code",
   "execution_count": 3,
   "id": "35cb35e8-24fb-4ab9-b0a5-4f440a106928",
   "metadata": {},
   "outputs": [],
   "source": [
    "X = df.drop('Outcome',axis=1)\n",
    "y = df['Outcome']"
   ]
  },
  {
   "cell_type": "code",
   "execution_count": 4,
   "id": "206e5ec2-095f-46a5-93be-ab15a5e92e76",
   "metadata": {},
   "outputs": [],
   "source": [
    "from sklearn.model_selection import train_test_split\n",
    "X_train,X_test,y_train,y_test = train_test_split(X,y,test_size=0.2,random_state=True)"
   ]
  },
  {
   "cell_type": "code",
   "execution_count": 5,
   "id": "d9ad89f5-dc55-4667-8d78-663d28394cc3",
   "metadata": {},
   "outputs": [
    {
     "name": "stdout",
     "output_type": "stream",
     "text": [
      "0.7827476038338658\n",
      "0.7721518987341772\n"
     ]
    }
   ],
   "source": [
    "from sklearn.svm import SVC\n",
    "model = SVC()\n",
    "model.fit(X_train,y_train)\n",
    "\n",
    "ypred_train = model.predict(X_train)\n",
    "ypred_test = model.predict(X_test)\n",
    "\n",
    "from sklearn.metrics import accuracy_score\n",
    "print(accuracy_score(y_train,ypred_train))\n",
    "print(accuracy_score(y_test,ypred_test))"
   ]
  },
  {
   "cell_type": "code",
   "execution_count": 6,
   "id": "74885f71-3dcc-4d2a-90f5-5c7d3ebc75b2",
   "metadata": {},
   "outputs": [
    {
     "data": {
      "text/plain": [
       "{'C': 10, 'kernel': 'linear'}"
      ]
     },
     "execution_count": 6,
     "metadata": {},
     "output_type": "execute_result"
    }
   ],
   "source": [
    "from sklearn.model_selection import GridSearchCV\n",
    "\n",
    "estimator =SVC()\n",
    "\n",
    "param_grid = {'C':[0.01,0.1,1,10],'kernel':['linear','rbf','sigmoid','poly']}\n",
    "\n",
    "grid = GridSearchCV(estimator,param_grid,cv=5)\n",
    "\n",
    "grid.fit(X,y)\n",
    "\n",
    "grid.best_params_"
   ]
  },
  {
   "cell_type": "code",
   "execution_count": 7,
   "id": "5c878e6c-00d9-43eb-a1c4-70631004b6df",
   "metadata": {},
   "outputs": [
    {
     "name": "stdout",
     "output_type": "stream",
     "text": [
      "0.7827476038338658\n",
      "0.7721518987341772\n"
     ]
    }
   ],
   "source": [
    "model = SVC(kernel = 'linear',C =10)\n",
    "model.fit(X_train,y_train)\n",
    "y_pred_train = model.predict(X_train)\n",
    "y_pred_test = model.predict(X_test)\n",
    "\n",
    "print(accuracy_score(y_train,ypred_train))\n",
    "print(accuracy_score(y_test,ypred_test))"
   ]
  },
  {
   "cell_type": "code",
   "execution_count": null,
   "id": "b0299f9a-9a20-469d-8ba5-1c63f8428f92",
   "metadata": {},
   "outputs": [],
   "source": []
  }
 ],
 "metadata": {
  "kernelspec": {
   "display_name": "Python 3 (ipykernel)",
   "language": "python",
   "name": "python3"
  },
  "language_info": {
   "codemirror_mode": {
    "name": "ipython",
    "version": 3
   },
   "file_extension": ".py",
   "mimetype": "text/x-python",
   "name": "python",
   "nbconvert_exporter": "python",
   "pygments_lexer": "ipython3",
   "version": "3.12.4"
  }
 },
 "nbformat": 4,
 "nbformat_minor": 5
}
