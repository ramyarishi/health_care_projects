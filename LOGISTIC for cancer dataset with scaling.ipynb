{
 "cells": [
  {
   "cell_type": "code",
   "execution_count": 1,
   "id": "c417678b-f8ba-4fc4-863f-4825090042ee",
   "metadata": {},
   "outputs": [],
   "source": [
    "import numpy as np\n",
    "import pandas as pd\n",
    "import matplotlib.pyplot as plt\n",
    "import seaborn as sns\n",
    "\n",
    "import warnings\n",
    "warnings.simplefilter('ignore')"
   ]
  },
  {
   "cell_type": "code",
   "execution_count": 2,
   "id": "a45000d2-228d-44bb-94d2-32b5b4af77e6",
   "metadata": {},
   "outputs": [],
   "source": [
    "df = pd.read_excel(r\"D:\\Jupyter\\Data Science\\ML\\SUPERVISIED LEARNING\\CLASSIFICATION\\CANCER DATASET\\cancer.xlsx\")"
   ]
  },
  {
   "cell_type": "code",
   "execution_count": 3,
   "id": "cd720cc5-f135-4e8c-aa8c-03eb51e6b8aa",
   "metadata": {},
   "outputs": [
    {
     "data": {
      "text/html": [
       "<div>\n",
       "<style scoped>\n",
       "    .dataframe tbody tr th:only-of-type {\n",
       "        vertical-align: middle;\n",
       "    }\n",
       "\n",
       "    .dataframe tbody tr th {\n",
       "        vertical-align: top;\n",
       "    }\n",
       "\n",
       "    .dataframe thead th {\n",
       "        text-align: right;\n",
       "    }\n",
       "</style>\n",
       "<table border=\"1\" class=\"dataframe\">\n",
       "  <thead>\n",
       "    <tr style=\"text-align: right;\">\n",
       "      <th></th>\n",
       "      <th>Gene One</th>\n",
       "      <th>Gene Two</th>\n",
       "      <th>Cancer Present</th>\n",
       "    </tr>\n",
       "  </thead>\n",
       "  <tbody>\n",
       "    <tr>\n",
       "      <th>0</th>\n",
       "      <td>4.3</td>\n",
       "      <td>3.9</td>\n",
       "      <td>1</td>\n",
       "    </tr>\n",
       "    <tr>\n",
       "      <th>1</th>\n",
       "      <td>2.5</td>\n",
       "      <td>6.3</td>\n",
       "      <td>0</td>\n",
       "    </tr>\n",
       "    <tr>\n",
       "      <th>2</th>\n",
       "      <td>5.7</td>\n",
       "      <td>3.9</td>\n",
       "      <td>1</td>\n",
       "    </tr>\n",
       "    <tr>\n",
       "      <th>3</th>\n",
       "      <td>6.1</td>\n",
       "      <td>6.2</td>\n",
       "      <td>0</td>\n",
       "    </tr>\n",
       "    <tr>\n",
       "      <th>4</th>\n",
       "      <td>7.4</td>\n",
       "      <td>3.4</td>\n",
       "      <td>1</td>\n",
       "    </tr>\n",
       "    <tr>\n",
       "      <th>...</th>\n",
       "      <td>...</td>\n",
       "      <td>...</td>\n",
       "      <td>...</td>\n",
       "    </tr>\n",
       "    <tr>\n",
       "      <th>2133</th>\n",
       "      <td>5.0</td>\n",
       "      <td>6.5</td>\n",
       "      <td>1</td>\n",
       "    </tr>\n",
       "    <tr>\n",
       "      <th>2134</th>\n",
       "      <td>3.4</td>\n",
       "      <td>6.6</td>\n",
       "      <td>0</td>\n",
       "    </tr>\n",
       "    <tr>\n",
       "      <th>2135</th>\n",
       "      <td>2.7</td>\n",
       "      <td>6.5</td>\n",
       "      <td>0</td>\n",
       "    </tr>\n",
       "    <tr>\n",
       "      <th>2136</th>\n",
       "      <td>3.3</td>\n",
       "      <td>5.6</td>\n",
       "      <td>0</td>\n",
       "    </tr>\n",
       "    <tr>\n",
       "      <th>2137</th>\n",
       "      <td>4.6</td>\n",
       "      <td>8.2</td>\n",
       "      <td>0</td>\n",
       "    </tr>\n",
       "  </tbody>\n",
       "</table>\n",
       "<p>2138 rows × 3 columns</p>\n",
       "</div>"
      ],
      "text/plain": [
       "      Gene One  Gene Two  Cancer Present\n",
       "0          4.3       3.9               1\n",
       "1          2.5       6.3               0\n",
       "2          5.7       3.9               1\n",
       "3          6.1       6.2               0\n",
       "4          7.4       3.4               1\n",
       "...        ...       ...             ...\n",
       "2133       5.0       6.5               1\n",
       "2134       3.4       6.6               0\n",
       "2135       2.7       6.5               0\n",
       "2136       3.3       5.6               0\n",
       "2137       4.6       8.2               0\n",
       "\n",
       "[2138 rows x 3 columns]"
      ]
     },
     "execution_count": 3,
     "metadata": {},
     "output_type": "execute_result"
    }
   ],
   "source": [
    "df"
   ]
  },
  {
   "cell_type": "code",
   "execution_count": 4,
   "id": "16e07eb2-85c2-456d-9cf7-d244bdf20cf0",
   "metadata": {},
   "outputs": [],
   "source": [
    "X = df.drop('Cancer Present',axis=1)\n",
    "y = df['Cancer Present']"
   ]
  },
  {
   "cell_type": "code",
   "execution_count": 5,
   "id": "01afcd20-d52b-4f1c-81a1-7df914d4481a",
   "metadata": {},
   "outputs": [],
   "source": [
    "from sklearn.model_selection import train_test_split\n",
    "X_train,X_test,y_train,y_test = train_test_split(X,y,test_size=0.2,random_state=9)"
   ]
  },
  {
   "cell_type": "code",
   "execution_count": 6,
   "id": "896178ea-e57f-48bb-a1a8-6877d92aed48",
   "metadata": {},
   "outputs": [],
   "source": [
    "from sklearn.preprocessing import StandardScaler\n",
    "scaler = StandardScaler()\n",
    "\n",
    "X_train = scaler.fit_transform(X_train)\n",
    "X_test = scaler.transform(X_test)"
   ]
  },
  {
   "cell_type": "code",
   "execution_count": 7,
   "id": "cddc2cc9-ab2d-4b14-b547-8377a11718ab",
   "metadata": {},
   "outputs": [
    {
     "name": "stdout",
     "output_type": "stream",
     "text": [
      "train accuracy 0.8456140350877193\n",
      "cvscore 0.8444444444444444\n",
      "testaccuracy 0.8387850467289719\n"
     ]
    }
   ],
   "source": [
    "from sklearn.linear_model import LogisticRegression\n",
    "log_reg = LogisticRegression()\n",
    "log_reg.fit(X_train,y_train)\n",
    "\n",
    "ypred_train = log_reg.predict(X_train)\n",
    "\n",
    "# train accuarcy\n",
    "from sklearn.metrics import accuracy_score\n",
    "print('train accuracy',accuracy_score(y_train,ypred_train))\n",
    "\n",
    "# crossvalidation score\n",
    "from sklearn.model_selection import cross_val_score\n",
    "print('cvscore',cross_val_score(log_reg,X_train,y_train,cv=5,scoring ='accuracy').mean())\n",
    "\n",
    "ypred_test = log_reg.predict(X_test)\n",
    "print('testaccuracy',accuracy_score(y_test,ypred_test))\n"
   ]
  },
  {
   "cell_type": "code",
   "execution_count": 8,
   "id": "a460a690-7aa0-43b6-aee2-9a0507d92b08",
   "metadata": {},
   "outputs": [
    {
     "data": {
      "text/plain": [
       "array([[169,  31],\n",
       "       [ 38, 190]], dtype=int64)"
      ]
     },
     "execution_count": 8,
     "metadata": {},
     "output_type": "execute_result"
    }
   ],
   "source": [
    "from sklearn.metrics import confusion_matrix\n",
    "cm = confusion_matrix(y_test,ypred_test)\n",
    "cm"
   ]
  },
  {
   "cell_type": "code",
   "execution_count": 9,
   "id": "b5c380ab-e8b8-4483-8c20-4bb082a7dfdd",
   "metadata": {},
   "outputs": [
    {
     "data": {
      "image/png": "[encoded data removed]",
      "text/plain": [
       "<Figure size 640x480 with 1 Axes>"
      ]
     },
     "metadata": {},
     "output_type": "display_data"
    }
   ],
   "source": [
    "from sklearn.metrics import roc_curve,auc,RocCurveDisplay\n",
    "\n",
    "fpr,tpr,thresholds = roc_curve(y_test,ypred_test)\n",
    "roc_auc = auc(fpr,tpr)\n",
    "RocCurveDisplay(fpr=fpr,tpr=tpr,roc_auc=roc_auc).plot()\n",
    "plt.show()"
   ]
  },
  {
   "cell_type": "code",
   "execution_count": 10,
   "id": "9a59beab-3d6f-4dd9-942c-b1e4a9f105d6",
   "metadata": {},
   "outputs": [
    {
     "data": {
      "text/plain": [
       "0.8391666666666667"
      ]
     },
     "execution_count": 10,
     "metadata": {},
     "output_type": "execute_result"
    }
   ],
   "source": [
    "from sklearn.metrics import roc_auc_score\n",
    "roc_auc_score(y_test,ypred_test)"
   ]
  },
  {
   "cell_type": "code",
   "execution_count": null,
   "id": "2e0de6cc-5617-425a-892b-e550b5e61b9c",
   "metadata": {},
   "outputs": [],
   "source": []
  }
 ],
 "metadata": {
  "kernelspec": {
   "display_name": "Python 3 (ipykernel)",
   "language": "python",
   "name": "python3"
  },
  "language_info": {
   "codemirror_mode": {
    "name": "ipython",
    "version": 3
   },
   "file_extension": ".py",
   "mimetype": "text/x-python",
   "name": "python",
   "nbconvert_exporter": "python",
   "pygments_lexer": "ipython3",
   "version": "3.12.4"
  }
 },
 "nbformat": 4,
 "nbformat_minor": 5
}
