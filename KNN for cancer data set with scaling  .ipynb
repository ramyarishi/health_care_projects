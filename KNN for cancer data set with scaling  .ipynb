{
 "cells": [
  {
   "cell_type": "code",
   "execution_count": 1,
   "id": "29a3a0e0-dee3-4c4c-8ca6-cd0138bf17d2",
   "metadata": {},
   "outputs": [],
   "source": [
    "import numpy as np\n",
    "import pandas as pd\n",
    "import matplotlib.pyplot as plt\n",
    "import seaborn as sns\n",
    "\n",
    "import warnings\n",
    "warnings.simplefilter('ignore')"
   ]
  },
  {
   "cell_type": "code",
   "execution_count": 2,
   "id": "13ce766a-2949-4691-a5d2-a035b66d536f",
   "metadata": {},
   "outputs": [
    {
     "data": {
      "text/html": [
       "<div>\n",
       "<style scoped>\n",
       "    .dataframe tbody tr th:only-of-type {\n",
       "        vertical-align: middle;\n",
       "    }\n",
       "\n",
       "    .dataframe tbody tr th {\n",
       "        vertical-align: top;\n",
       "    }\n",
       "\n",
       "    .dataframe thead th {\n",
       "        text-align: right;\n",
       "    }\n",
       "</style>\n",
       "<table border=\"1\" class=\"dataframe\">\n",
       "  <thead>\n",
       "    <tr style=\"text-align: right;\">\n",
       "      <th></th>\n",
       "      <th>Gene One</th>\n",
       "      <th>Gene Two</th>\n",
       "      <th>Cancer Present</th>\n",
       "    </tr>\n",
       "  </thead>\n",
       "  <tbody>\n",
       "    <tr>\n",
       "      <th>0</th>\n",
       "      <td>4.3</td>\n",
       "      <td>3.9</td>\n",
       "      <td>1</td>\n",
       "    </tr>\n",
       "    <tr>\n",
       "      <th>1</th>\n",
       "      <td>2.5</td>\n",
       "      <td>6.3</td>\n",
       "      <td>0</td>\n",
       "    </tr>\n",
       "    <tr>\n",
       "      <th>2</th>\n",
       "      <td>5.7</td>\n",
       "      <td>3.9</td>\n",
       "      <td>1</td>\n",
       "    </tr>\n",
       "    <tr>\n",
       "      <th>3</th>\n",
       "      <td>6.1</td>\n",
       "      <td>6.2</td>\n",
       "      <td>0</td>\n",
       "    </tr>\n",
       "    <tr>\n",
       "      <th>4</th>\n",
       "      <td>7.4</td>\n",
       "      <td>3.4</td>\n",
       "      <td>1</td>\n",
       "    </tr>\n",
       "    <tr>\n",
       "      <th>...</th>\n",
       "      <td>...</td>\n",
       "      <td>...</td>\n",
       "      <td>...</td>\n",
       "    </tr>\n",
       "    <tr>\n",
       "      <th>2133</th>\n",
       "      <td>5.0</td>\n",
       "      <td>6.5</td>\n",
       "      <td>1</td>\n",
       "    </tr>\n",
       "    <tr>\n",
       "      <th>2134</th>\n",
       "      <td>3.4</td>\n",
       "      <td>6.6</td>\n",
       "      <td>0</td>\n",
       "    </tr>\n",
       "    <tr>\n",
       "      <th>2135</th>\n",
       "      <td>2.7</td>\n",
       "      <td>6.5</td>\n",
       "      <td>0</td>\n",
       "    </tr>\n",
       "    <tr>\n",
       "      <th>2136</th>\n",
       "      <td>3.3</td>\n",
       "      <td>5.6</td>\n",
       "      <td>0</td>\n",
       "    </tr>\n",
       "    <tr>\n",
       "      <th>2137</th>\n",
       "      <td>4.6</td>\n",
       "      <td>8.2</td>\n",
       "      <td>0</td>\n",
       "    </tr>\n",
       "  </tbody>\n",
       "</table>\n",
       "<p>2138 rows × 3 columns</p>\n",
       "</div>"
      ],
      "text/plain": [
       "      Gene One  Gene Two  Cancer Present\n",
       "0          4.3       3.9               1\n",
       "1          2.5       6.3               0\n",
       "2          5.7       3.9               1\n",
       "3          6.1       6.2               0\n",
       "4          7.4       3.4               1\n",
       "...        ...       ...             ...\n",
       "2133       5.0       6.5               1\n",
       "2134       3.4       6.6               0\n",
       "2135       2.7       6.5               0\n",
       "2136       3.3       5.6               0\n",
       "2137       4.6       8.2               0\n",
       "\n",
       "[2138 rows x 3 columns]"
      ]
     },
     "execution_count": 2,
     "metadata": {},
     "output_type": "execute_result"
    }
   ],
   "source": [
    "df = pd.read_excel(r\"D:\\Jupyter\\Data Science\\ML\\SUPERVISIED LEARNING\\CLASSIFICATION\\CANCER DATASET\\cancer.xlsx\")\n",
    "df"
   ]
  },
  {
   "cell_type": "code",
   "execution_count": 3,
   "id": "e87a8eb5-250a-42f2-a302-ef87ec473287",
   "metadata": {},
   "outputs": [],
   "source": [
    "X = df.drop('Cancer Present',axis=1)\n",
    "y = df['Cancer Present']"
   ]
  },
  {
   "cell_type": "code",
   "execution_count": 4,
   "id": "c447f3fe-148f-4556-9755-e4f4bcbc5925",
   "metadata": {},
   "outputs": [],
   "source": [
    "from sklearn.model_selection import train_test_split\n",
    "X_train,X_test,y_train,y_test = train_test_split(X,y,test_size=0.2,random_state=9)"
   ]
  },
  {
   "cell_type": "markdown",
   "id": "4922d7b8-495e-499a-bedd-0468a2ec7997",
   "metadata": {},
   "source": [
    "scaling data"
   ]
  },
  {
   "cell_type": "code",
   "execution_count": 5,
   "id": "d0fe88d7-04b5-4c21-899e-cb936e284357",
   "metadata": {},
   "outputs": [],
   "source": [
    "from sklearn.preprocessing import StandardScaler\n",
    "scaler = StandardScaler()\n",
    "\n",
    "X_train = scaler.fit_transform(X_train)\n",
    "X_test = scaler.transform(X_test)"
   ]
  },
  {
   "cell_type": "code",
   "execution_count": 6,
   "id": "7189d551-610f-400d-afda-0997d8912922",
   "metadata": {},
   "outputs": [
    {
     "name": "stdout",
     "output_type": "stream",
     "text": [
      "TRAIN  0.9263157894736842\n",
      "TEST 0.9018691588785047\n",
      "cv-score 0.9005847953216375\n"
     ]
    }
   ],
   "source": [
    "from sklearn.neighbors import KNeighborsClassifier\n",
    "model = KNeighborsClassifier()\n",
    "model.fit(X_train,y_train)\n",
    "y_pred_train = model.predict(X_train)\n",
    "y_pred_test = model.predict(X_test)\n",
    "from sklearn.metrics import accuracy_score\n",
    "print('TRAIN ',accuracy_score(y_train,y_pred_train))\n",
    "print('TEST',accuracy_score(y_test,y_pred_test))\n",
    "from sklearn.model_selection import cross_val_score\n",
    "print('cv-score',cross_val_score(model,X_train,y_train,cv=5,scoring='accuracy').mean())\n"
   ]
  },
  {
   "cell_type": "markdown",
   "id": "56abf574-1c18-4932-93c2-0442c711053a",
   "metadata": {},
   "source": [
    "- hyperparameter tuning for KNN classifier\n",
    "  "
   ]
  },
  {
   "cell_type": "code",
   "execution_count": 9,
   "id": "8b1b7947-d860-483d-88eb-d77cd77923cc",
   "metadata": {},
   "outputs": [
    {
     "data": {
      "text/plain": [
       "{'n_neighbors': 21}"
      ]
     },
     "execution_count": 9,
     "metadata": {},
     "output_type": "execute_result"
    }
   ],
   "source": [
    "from sklearn.model_selection import GridSearchCV\n",
    "estimator = KNeighborsClassifier()\n",
    "param_grid = {'n_neighbors':list(range(1,100))}\n",
    "knn = GridSearchCV(estimator,param_grid,cv=5, scoring='accuracy')\n",
    "knn.fit(X_train,y_train)\n",
    "knn.best_params_\n"
   ]
  },
  {
   "cell_type": "markdown",
   "id": "42a215e7-4864-4da9-a8e1-ea55eebcd345",
   "metadata": {},
   "source": [
    "**KNN model with best hyper parameters**"
   ]
  },
  {
   "cell_type": "code",
   "execution_count": 10,
   "id": "c3283dcf-ef74-4397-bbe3-9e1bae63ac2b",
   "metadata": {},
   "outputs": [
    {
     "name": "stdout",
     "output_type": "stream",
     "text": [
      "train accuracy 0.9245614035087719\n",
      "test accuracy 0.9205607476635514\n",
      "cross validation score 0.916263214340432\n"
     ]
    }
   ],
   "source": [
    "#modelling\n",
    "from sklearn.neighbors import KNeighborsClassifier\n",
    "knn = KNeighborsClassifier(n_neighbors=17)\n",
    "knn.fit(X_train,y_train)\n",
    "\n",
    "#prediction \n",
    "y_pred_test = knn.predict(X_test)\n",
    "y_pred_train = knn.predict(X_train)\n",
    "\n",
    "#Evalution \n",
    "from sklearn.metrics import accuracy_score\n",
    "print('train accuracy',accuracy_score(y_train,y_pred_train))\n",
    "print('test accuracy',accuracy_score(y_test,y_pred_test))\n",
    "\n",
    "from sklearn.model_selection import cross_val_score\n",
    "print('cross validation score',cross_val_score(knn,X,y,cv=5).mean())\n"
   ]
  },
  {
   "cell_type": "code",
   "execution_count": 11,
   "id": "801ddc2c-2557-4445-8627-c2c61d7070eb",
   "metadata": {},
   "outputs": [
    {
     "data": {
      "text/plain": [
       "array([[189,  11],\n",
       "       [ 23, 205]], dtype=int64)"
      ]
     },
     "execution_count": 11,
     "metadata": {},
     "output_type": "execute_result"
    }
   ],
   "source": [
    "from sklearn.metrics import confusion_matrix\n",
    "confusion_matrix(y_test,y_pred_test)"
   ]
  },
  {
   "cell_type": "code",
   "execution_count": 12,
   "id": "14797d8a-8e1f-4ad5-93d0-ef08c61b1198",
   "metadata": {},
   "outputs": [
    {
     "name": "stdout",
     "output_type": "stream",
     "text": [
      "              precision    recall  f1-score   support\n",
      "\n",
      "           0       0.89      0.94      0.92       200\n",
      "           1       0.95      0.90      0.92       228\n",
      "\n",
      "    accuracy                           0.92       428\n",
      "   macro avg       0.92      0.92      0.92       428\n",
      "weighted avg       0.92      0.92      0.92       428\n",
      "\n"
     ]
    }
   ],
   "source": [
    "from sklearn.metrics import classification_report\n",
    "print(classification_report(y_test,y_pred_test))"
   ]
  },
  {
   "cell_type": "markdown",
   "id": "41282e00-bd8a-4af6-8c83-5eb60e25603f",
   "metadata": {},
   "source": [
    "**prediction on new data**\n",
    "- new data"
   ]
  },
  {
   "cell_type": "code",
   "execution_count": 13,
   "id": "a5d448d2-1b66-4ebb-9c72-97bb9b3cd47d",
   "metadata": {},
   "outputs": [
    {
     "data": {
      "text/html": [
       "<div>\n",
       "<style scoped>\n",
       "    .dataframe tbody tr th:only-of-type {\n",
       "        vertical-align: middle;\n",
       "    }\n",
       "\n",
       "    .dataframe tbody tr th {\n",
       "        vertical-align: top;\n",
       "    }\n",
       "\n",
       "    .dataframe thead th {\n",
       "        text-align: right;\n",
       "    }\n",
       "</style>\n",
       "<table border=\"1\" class=\"dataframe\">\n",
       "  <thead>\n",
       "    <tr style=\"text-align: right;\">\n",
       "      <th></th>\n",
       "      <th>Gene One</th>\n",
       "      <th>Gene Two</th>\n",
       "    </tr>\n",
       "  </thead>\n",
       "  <tbody>\n",
       "    <tr>\n",
       "      <th>0</th>\n",
       "      <td>4.9</td>\n",
       "      <td>3.9</td>\n",
       "    </tr>\n",
       "  </tbody>\n",
       "</table>\n",
       "</div>"
      ],
      "text/plain": [
       "   Gene One  Gene Two\n",
       "0       4.9       3.9"
      ]
     },
     "execution_count": 13,
     "metadata": {},
     "output_type": "execute_result"
    }
   ],
   "source": [
    "df = pd.DataFrame({'Gene One':[4.9],'Gene Two':[3.9]})\n",
    "df"
   ]
  },
  {
   "cell_type": "markdown",
   "id": "98790d95-58a3-4dc1-962c-1dd9b0607a16",
   "metadata": {},
   "source": [
    "**preprocess the new data**"
   ]
  },
  {
   "cell_type": "code",
   "execution_count": 14,
   "id": "22e4fc10-fc86-4037-8b22-35bb01c88534",
   "metadata": {},
   "outputs": [],
   "source": [
    "df_scaled = scaler.transform(df)"
   ]
  },
  {
   "cell_type": "markdown",
   "id": "4bd4f64f-11dd-42e6-9fca-c152955c562a",
   "metadata": {},
   "source": [
    "**use KNN tp predict on new data**"
   ]
  },
  {
   "cell_type": "code",
   "execution_count": 15,
   "id": "769c3f59-9458-4a6e-8c08-f6698b597356",
   "metadata": {},
   "outputs": [
    {
     "data": {
      "text/plain": [
       "array([1], dtype=int64)"
      ]
     },
     "execution_count": 15,
     "metadata": {},
     "output_type": "execute_result"
    }
   ],
   "source": [
    "knn.predict(df_scaled)"
   ]
  },
  {
   "cell_type": "code",
   "execution_count": null,
   "id": "99427394-9b4d-4c17-be78-2c7fcb16346e",
   "metadata": {},
   "outputs": [],
   "source": []
  }
 ],
 "metadata": {
  "kernelspec": {
   "display_name": "Python 3 (ipykernel)",
   "language": "python",
   "name": "python3"
  },
  "language_info": {
   "codemirror_mode": {
    "name": "ipython",
    "version": 3
   },
   "file_extension": ".py",
   "mimetype": "text/x-python",
   "name": "python",
   "nbconvert_exporter": "python",
   "pygments_lexer": "ipython3",
   "version": "3.12.4"
  }
 },
 "nbformat": 4,
 "nbformat_minor": 5
}
