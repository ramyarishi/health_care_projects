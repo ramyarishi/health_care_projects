{
 "cells": [
  {
   "cell_type": "code",
   "execution_count": 1,
   "id": "d6b514fb-f081-4e20-a7fe-d9cb9729cbeb",
   "metadata": {},
   "outputs": [],
   "source": [
    "import numpy as np\n",
    "import pandas as pd\n",
    "import matplotlib.pyplot as plt\n",
    "import seaborn as sns\n",
    "\n",
    "import warnings\n",
    "warnings.simplefilter('ignore')"
   ]
  },
  {
   "cell_type": "code",
   "execution_count": 2,
   "id": "384196ad-f5b2-4520-aa19-cde10e9b02d5",
   "metadata": {},
   "outputs": [
    {
     "data": {
      "text/html": [
       "<div>\n",
       "<style scoped>\n",
       "    .dataframe tbody tr th:only-of-type {\n",
       "        vertical-align: middle;\n",
       "    }\n",
       "\n",
       "    .dataframe tbody tr th {\n",
       "        vertical-align: top;\n",
       "    }\n",
       "\n",
       "    .dataframe thead th {\n",
       "        text-align: right;\n",
       "    }\n",
       "</style>\n",
       "<table border=\"1\" class=\"dataframe\">\n",
       "  <thead>\n",
       "    <tr style=\"text-align: right;\">\n",
       "      <th></th>\n",
       "      <th>Gene One</th>\n",
       "      <th>Gene Two</th>\n",
       "      <th>Cancer Present</th>\n",
       "    </tr>\n",
       "  </thead>\n",
       "  <tbody>\n",
       "    <tr>\n",
       "      <th>0</th>\n",
       "      <td>4.3</td>\n",
       "      <td>3.9</td>\n",
       "      <td>1</td>\n",
       "    </tr>\n",
       "    <tr>\n",
       "      <th>1</th>\n",
       "      <td>2.5</td>\n",
       "      <td>6.3</td>\n",
       "      <td>0</td>\n",
       "    </tr>\n",
       "    <tr>\n",
       "      <th>2</th>\n",
       "      <td>5.7</td>\n",
       "      <td>3.9</td>\n",
       "      <td>1</td>\n",
       "    </tr>\n",
       "    <tr>\n",
       "      <th>3</th>\n",
       "      <td>6.1</td>\n",
       "      <td>6.2</td>\n",
       "      <td>0</td>\n",
       "    </tr>\n",
       "    <tr>\n",
       "      <th>4</th>\n",
       "      <td>7.4</td>\n",
       "      <td>3.4</td>\n",
       "      <td>1</td>\n",
       "    </tr>\n",
       "    <tr>\n",
       "      <th>...</th>\n",
       "      <td>...</td>\n",
       "      <td>...</td>\n",
       "      <td>...</td>\n",
       "    </tr>\n",
       "    <tr>\n",
       "      <th>2133</th>\n",
       "      <td>5.0</td>\n",
       "      <td>6.5</td>\n",
       "      <td>1</td>\n",
       "    </tr>\n",
       "    <tr>\n",
       "      <th>2134</th>\n",
       "      <td>3.4</td>\n",
       "      <td>6.6</td>\n",
       "      <td>0</td>\n",
       "    </tr>\n",
       "    <tr>\n",
       "      <th>2135</th>\n",
       "      <td>2.7</td>\n",
       "      <td>6.5</td>\n",
       "      <td>0</td>\n",
       "    </tr>\n",
       "    <tr>\n",
       "      <th>2136</th>\n",
       "      <td>3.3</td>\n",
       "      <td>5.6</td>\n",
       "      <td>0</td>\n",
       "    </tr>\n",
       "    <tr>\n",
       "      <th>2137</th>\n",
       "      <td>4.6</td>\n",
       "      <td>8.2</td>\n",
       "      <td>0</td>\n",
       "    </tr>\n",
       "  </tbody>\n",
       "</table>\n",
       "<p>2138 rows × 3 columns</p>\n",
       "</div>"
      ],
      "text/plain": [
       "      Gene One  Gene Two  Cancer Present\n",
       "0          4.3       3.9               1\n",
       "1          2.5       6.3               0\n",
       "2          5.7       3.9               1\n",
       "3          6.1       6.2               0\n",
       "4          7.4       3.4               1\n",
       "...        ...       ...             ...\n",
       "2133       5.0       6.5               1\n",
       "2134       3.4       6.6               0\n",
       "2135       2.7       6.5               0\n",
       "2136       3.3       5.6               0\n",
       "2137       4.6       8.2               0\n",
       "\n",
       "[2138 rows x 3 columns]"
      ]
     },
     "execution_count": 2,
     "metadata": {},
     "output_type": "execute_result"
    }
   ],
   "source": [
    "df = pd.read_excel(r\"D:\\Jupyter\\Data Science\\ML\\SUPERVISIED LEARNING\\CLASSIFICATION\\CANCER DATASET\\cancer.xlsx\")\n",
    "df"
   ]
  },
  {
   "cell_type": "code",
   "execution_count": 3,
   "id": "5f79112e-95e3-427d-9fa5-d975a10c1ddc",
   "metadata": {},
   "outputs": [],
   "source": [
    "X = df.drop('Cancer Present',axis=1)\n",
    "y = df['Cancer Present']"
   ]
  },
  {
   "cell_type": "code",
   "execution_count": 4,
   "id": "c03e4800-48e5-4d96-9a46-a937a26a14e0",
   "metadata": {},
   "outputs": [],
   "source": [
    "from sklearn.model_selection import train_test_split\n",
    "X_train,X_test,y_train,y_test = train_test_split(X,y,test_size=0.2,random_state=True)"
   ]
  },
  {
   "cell_type": "markdown",
   "id": "ff1371df-10de-4a17-b419-6bf0502048df",
   "metadata": {},
   "source": [
    "# adaboost\n",
    "applying hyperparameter tuning for identifying best parameters for adaboost"
   ]
  },
  {
   "cell_type": "code",
   "execution_count": 6,
   "id": "00627d08-cc00-467c-822f-4727f40def22",
   "metadata": {},
   "outputs": [
    {
     "data": {
      "text/plain": [
       "{'n_estimators': 13}"
      ]
     },
     "execution_count": 6,
     "metadata": {},
     "output_type": "execute_result"
    }
   ],
   "source": [
    "from sklearn.model_selection import GridSearchCV\n",
    "\n",
    "#model\n",
    "from sklearn.ensemble import AdaBoostClassifier\n",
    "estimator_ab = AdaBoostClassifier(random_state= True)\n",
    "\n",
    "#parameters(which you want to tune and identify the best)\n",
    "param_grid_ab ={'n_estimators':list(range(1,20))}\n",
    "\n",
    "#grid search\n",
    "grid_ab = GridSearchCV(estimator_ab,param_grid_ab,scoring ='accuracy',cv= 5)\n",
    "grid_ab.fit(X_train,y_train)\n",
    "\n",
    "# best parameters for adaboost model\n",
    "grid_ab.best_params_"
   ]
  },
  {
   "cell_type": "code",
   "execution_count": 7,
   "id": "85e5aebe-b7c6-4ba3-8a50-7d002a1ed241",
   "metadata": {},
   "outputs": [],
   "source": [
    "# ada boost model import features\n"
   ]
  },
  {
   "cell_type": "code",
   "execution_count": 8,
   "id": "877be1b6-de96-416a-afb7-0484634a2ebd",
   "metadata": {},
   "outputs": [
    {
     "data": {
      "text/plain": [
       "array([0.61538462, 0.38461538])"
      ]
     },
     "execution_count": 8,
     "metadata": {},
     "output_type": "execute_result"
    }
   ],
   "source": [
    "grid_ab.best_estimator_.feature_importances_"
   ]
  },
  {
   "cell_type": "code",
   "execution_count": 9,
   "id": "2a5c5eda-28de-476a-95c1-384c1e43d66a",
   "metadata": {},
   "outputs": [
    {
     "data": {
      "text/plain": [
       "['Gene One', 'Gene Two']"
      ]
     },
     "execution_count": 9,
     "metadata": {},
     "output_type": "execute_result"
    }
   ],
   "source": [
    "s1 = pd.DataFrame(grid_ab.best_estimator_.feature_importances_,\n",
    "                  columns=['featureimportance'],\n",
    "                  index = X.columns)\n",
    "imp_features_list_ab = s1[s1['featureimportance']>0].index.to_list()\n",
    "imp_features_list_ab\n",
    "                "
   ]
  },
  {
   "cell_type": "markdown",
   "id": "3192bed0-56c2-4b2c-b25f-6e311536035b",
   "metadata": {},
   "source": [
    " # ada boost classifier\n",
    "- with important features\n"
   ]
  },
  {
   "cell_type": "code",
   "execution_count": 10,
   "id": "726ddfbc-b0ce-40d9-bdbd-b6329ae6867e",
   "metadata": {},
   "outputs": [
    {
     "name": "stdout",
     "output_type": "stream",
     "text": [
      "trainaccuracy: 0.8906432748538011\n",
      "crossvalidationscore: 0.876608187134503\n",
      "testaccuracy: 0.8878504672897196\n"
     ]
    }
   ],
   "source": [
    "from sklearn.model_selection import train_test_split\n",
    "from sklearn.ensemble import AdaBoostClassifier\n",
    "from sklearn.metrics import accuracy_score\n",
    "from sklearn.model_selection import cross_val_score\n",
    "\n",
    "\n",
    "\n",
    "# Ensure `X_imp` and `y` have the same number of rows\n",
    "X_imp = X[imp_features_list_ab]\n",
    "\n",
    "# Correct order of train_test_split\n",
    "X_train_ab, X_test_ab, y_train_ab, y_test_ab = train_test_split(X_imp, y, test_size=0.2, random_state=42)\n",
    "\n",
    "# Initialize and train AdaBoostClassifier\n",
    "ada = AdaBoostClassifier(n_estimators=9, random_state=42)\n",
    "ada.fit(X_train_ab, y_train_ab)\n",
    "\n",
    "# Predictions\n",
    "ypred_train_ab = ada.predict(X_train_ab)\n",
    "ypred_test_ab = ada.predict(X_test_ab)\n",
    "\n",
    "# Train accuracy\n",
    "print('trainaccuracy:', accuracy_score(y_train_ab, ypred_train_ab))\n",
    "\n",
    "# Cross-validation score\n",
    "print('crossvalidationscore:', cross_val_score(ada, X_train_ab, y_train_ab, cv=5).mean())\n",
    "\n",
    "# Test accuracy\n",
    "print('testaccuracy:', accuracy_score(y_test_ab, ypred_test_ab))\n"
   ]
  },
  {
   "cell_type": "code",
   "execution_count": null,
   "id": "0f1ee83a-4564-4c55-9d36-b1c175bf854f",
   "metadata": {},
   "outputs": [],
   "source": []
  }
 ],
 "metadata": {
  "kernelspec": {
   "display_name": "Python 3 (ipykernel)",
   "language": "python",
   "name": "python3"
  },
  "language_info": {
   "codemirror_mode": {
    "name": "ipython",
    "version": 3
   },
   "file_extension": ".py",
   "mimetype": "text/x-python",
   "name": "python",
   "nbconvert_exporter": "python",
   "pygments_lexer": "ipython3",
   "version": "3.12.4"
  }
 },
 "nbformat": 4,
 "nbformat_minor": 5
}
