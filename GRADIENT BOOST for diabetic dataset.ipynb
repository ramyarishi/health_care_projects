{
 "cells": [
  {
   "cell_type": "code",
   "execution_count": 1,
   "id": "2cfec299-2da9-4c78-b6a1-676f521b6500",
   "metadata": {},
   "outputs": [],
   "source": [
    "import numpy as np\n",
    "import pandas as pd\n",
    "import matplotlib.pyplot as plt\n",
    "import seaborn as sns\n",
    "\n",
    "import warnings\n",
    "warnings.simplefilter('ignore')"
   ]
  },
  {
   "cell_type": "code",
   "execution_count": 2,
   "id": "1c73cf8b-391e-48a3-8624-2d22e44023fa",
   "metadata": {},
   "outputs": [
    {
     "data": {
      "text/html": [
       "<div>\n",
       "<style scoped>\n",
       "    .dataframe tbody tr th:only-of-type {\n",
       "        vertical-align: middle;\n",
       "    }\n",
       "\n",
       "    .dataframe tbody tr th {\n",
       "        vertical-align: top;\n",
       "    }\n",
       "\n",
       "    .dataframe thead th {\n",
       "        text-align: right;\n",
       "    }\n",
       "</style>\n",
       "<table border=\"1\" class=\"dataframe\">\n",
       "  <thead>\n",
       "    <tr style=\"text-align: right;\">\n",
       "      <th></th>\n",
       "      <th>Pregnancies</th>\n",
       "      <th>Glucose</th>\n",
       "      <th>BloodPressure</th>\n",
       "      <th>SkinThickness</th>\n",
       "      <th>Insulin</th>\n",
       "      <th>BMI</th>\n",
       "      <th>DiabetesPedigreeFunction</th>\n",
       "      <th>Age</th>\n",
       "      <th>Outcome</th>\n",
       "    </tr>\n",
       "  </thead>\n",
       "  <tbody>\n",
       "    <tr>\n",
       "      <th>0</th>\n",
       "      <td>1</td>\n",
       "      <td>89</td>\n",
       "      <td>66</td>\n",
       "      <td>23</td>\n",
       "      <td>4.546836</td>\n",
       "      <td>28.1</td>\n",
       "      <td>0.408656</td>\n",
       "      <td>2.140695</td>\n",
       "      <td>0</td>\n",
       "    </tr>\n",
       "    <tr>\n",
       "      <th>1</th>\n",
       "      <td>0</td>\n",
       "      <td>137</td>\n",
       "      <td>40</td>\n",
       "      <td>35</td>\n",
       "      <td>5.517848</td>\n",
       "      <td>43.1</td>\n",
       "      <td>1.512614</td>\n",
       "      <td>2.396782</td>\n",
       "      <td>1</td>\n",
       "    </tr>\n",
       "    <tr>\n",
       "      <th>2</th>\n",
       "      <td>3</td>\n",
       "      <td>78</td>\n",
       "      <td>50</td>\n",
       "      <td>32</td>\n",
       "      <td>4.447960</td>\n",
       "      <td>31.0</td>\n",
       "      <td>0.497996</td>\n",
       "      <td>2.258101</td>\n",
       "      <td>1</td>\n",
       "    </tr>\n",
       "    <tr>\n",
       "      <th>3</th>\n",
       "      <td>2</td>\n",
       "      <td>197</td>\n",
       "      <td>70</td>\n",
       "      <td>45</td>\n",
       "      <td>8.158305</td>\n",
       "      <td>30.5</td>\n",
       "      <td>0.397492</td>\n",
       "      <td>2.698168</td>\n",
       "      <td>1</td>\n",
       "    </tr>\n",
       "    <tr>\n",
       "      <th>4</th>\n",
       "      <td>1</td>\n",
       "      <td>189</td>\n",
       "      <td>60</td>\n",
       "      <td>23</td>\n",
       "      <td>9.457800</td>\n",
       "      <td>30.1</td>\n",
       "      <td>0.630872</td>\n",
       "      <td>2.771488</td>\n",
       "      <td>1</td>\n",
       "    </tr>\n",
       "  </tbody>\n",
       "</table>\n",
       "</div>"
      ],
      "text/plain": [
       "   Pregnancies  Glucose  BloodPressure  SkinThickness   Insulin   BMI  \\\n",
       "0            1       89             66             23  4.546836  28.1   \n",
       "1            0      137             40             35  5.517848  43.1   \n",
       "2            3       78             50             32  4.447960  31.0   \n",
       "3            2      197             70             45  8.158305  30.5   \n",
       "4            1      189             60             23  9.457800  30.1   \n",
       "\n",
       "   DiabetesPedigreeFunction       Age  Outcome  \n",
       "0                  0.408656  2.140695        0  \n",
       "1                  1.512614  2.396782        1  \n",
       "2                  0.497996  2.258101        1  \n",
       "3                  0.397492  2.698168        1  \n",
       "4                  0.630872  2.771488        1  "
      ]
     },
     "execution_count": 2,
     "metadata": {},
     "output_type": "execute_result"
    }
   ],
   "source": [
    "df = pd.read_excel(r\"D:\\Jupyter\\Data Science\\ML\\SUPERVISIED LEARNING\\CLASSIFICATION\\DIABETIC DATASET\\cleandiabetic.xlsx\")\n",
    "df.head()"
   ]
  },
  {
   "cell_type": "code",
   "execution_count": 3,
   "id": "a7f40aa2-2f7a-4d4d-8340-089ceaf379ae",
   "metadata": {},
   "outputs": [],
   "source": [
    "X = df.drop('Outcome',axis=1)\n",
    "y = df['Outcome']"
   ]
  },
  {
   "cell_type": "code",
   "execution_count": 4,
   "id": "57c62c81-0b10-4a51-b400-1482f095213e",
   "metadata": {},
   "outputs": [],
   "source": [
    "from sklearn.model_selection import train_test_split\n",
    "X_train,X_test,y_train,y_test = train_test_split(X,y,test_size=0.2,random_state=True)"
   ]
  },
  {
   "cell_type": "markdown",
   "id": "7ae71059-d579-4e27-b7f7-60bb247711a5",
   "metadata": {},
   "source": [
    "# gradient boost\n",
    "applying hyperparameter tuning for identifying best parameters for gradient boost\n"
   ]
  },
  {
   "cell_type": "code",
   "execution_count": 5,
   "id": "f1b6ea56-56a8-4fa1-8257-792da98b72e0",
   "metadata": {},
   "outputs": [
    {
     "data": {
      "text/plain": [
       "{'learning_rate': 1, 'n_estimators': 1}"
      ]
     },
     "execution_count": 5,
     "metadata": {},
     "output_type": "execute_result"
    }
   ],
   "source": [
    "from sklearn.model_selection import GridSearchCV\n",
    "\n",
    "#model\n",
    "from sklearn.ensemble import GradientBoostingClassifier\n",
    "estimator_gb = GradientBoostingClassifier(random_state= True)\n",
    "\n",
    "#parameters(which you want to tune and identify the best)\n",
    "param_grid ={'n_estimators':[1,5,10,20,30],\n",
    "            'learning_rate':[0.1,0.2,0.3,0.5,0.8,1]}\n",
    "\n",
    "#grid search\n",
    "grid_gb = GridSearchCV(estimator_gb,param_grid,scoring ='accuracy',cv= 5)\n",
    "grid_gb.fit(X_train,y_train)\n",
    "\n",
    "# best parameters for adaboost model\n",
    "grid_gb.best_params_"
   ]
  },
  {
   "cell_type": "code",
   "execution_count": 6,
   "id": "ac020625-d00a-4127-b91f-e9c8acebdcea",
   "metadata": {},
   "outputs": [
    {
     "data": {
      "text/plain": [
       "array([0.        , 0.644083  , 0.        , 0.06639489, 0.        ,\n",
       "       0.05644122, 0.06205369, 0.1710272 ])"
      ]
     },
     "execution_count": 6,
     "metadata": {},
     "output_type": "execute_result"
    }
   ],
   "source": [
    "grid_gb.best_estimator_.feature_importances_"
   ]
  },
  {
   "cell_type": "code",
   "execution_count": 7,
   "id": "91458471-54f1-4ed1-9331-541439c1d654",
   "metadata": {},
   "outputs": [
    {
     "data": {
      "text/plain": [
       "['Glucose', 'SkinThickness', 'BMI', 'DiabetesPedigreeFunction', 'Age']"
      ]
     },
     "execution_count": 7,
     "metadata": {},
     "output_type": "execute_result"
    }
   ],
   "source": [
    "s1 = pd.DataFrame(grid_gb.best_estimator_.feature_importances_,\n",
    "                  columns=['featureimportance'],\n",
    "                  index = X.columns)\n",
    "imp_features_list_gb = s1[s1['featureimportance']>0].index.to_list()\n",
    "imp_features_list_gb\n",
    "                "
   ]
  },
  {
   "cell_type": "code",
   "execution_count": 8,
   "id": "5d01a1c1-41ac-40c9-8751-cead034410bd",
   "metadata": {},
   "outputs": [
    {
     "name": "stdout",
     "output_type": "stream",
     "text": [
      "trainaccuracy: 0.8370607028753994\n",
      "crossvalidationscore: 0.7733742959549412\n",
      "testaccuracy: 0.6708860759493671\n"
     ]
    }
   ],
   "source": [
    "from sklearn.model_selection import train_test_split\n",
    "from sklearn.ensemble import GradientBoostingClassifier\n",
    "from sklearn.metrics import accuracy_score\n",
    "from sklearn.model_selection import cross_val_score\n",
    "\n",
    "\n",
    "\n",
    "\n",
    "# Ensure `X_imp` and `y` have the same number of rows\n",
    "X_imp = X[imp_features_list_gb]\n",
    "\n",
    "# Correct order of train_test_split\n",
    "X_train_gb, X_test_gb, y_train_gb, y_test_gb = train_test_split(X_imp, y, test_size=0.2, random_state=42)\n",
    "\n",
    "# Initialize and train AdaBoostClassifier\n",
    "ada =GradientBoostingClassifier(n_estimators=9, random_state=42)\n",
    "ada.fit(X_train_gb, y_train_gb)\n",
    "\n",
    "# Predictions\n",
    "ypred_train_gb = ada.predict(X_train_gb)\n",
    "ypred_test_gb = ada.predict(X_test_gb)\n",
    "\n",
    "# Train accuracy\n",
    "print('trainaccuracy:', accuracy_score(y_train_gb, ypred_train_gb))\n",
    "\n",
    "# Cross-validation score\n",
    "print('crossvalidationscore:', cross_val_score(ada, X_train_gb, y_train_gb, cv=5).mean())\n",
    "\n",
    "# Test accuracy\n",
    "print('testaccuracy:', accuracy_score(y_test_gb, ypred_test_gb))\n"
   ]
  },
  {
   "cell_type": "code",
   "execution_count": null,
   "id": "29a9e32f-9140-410d-9287-7469c492dbde",
   "metadata": {},
   "outputs": [],
   "source": []
  }
 ],
 "metadata": {
  "kernelspec": {
   "display_name": "Python 3 (ipykernel)",
   "language": "python",
   "name": "python3"
  },
  "language_info": {
   "codemirror_mode": {
    "name": "ipython",
    "version": 3
   },
   "file_extension": ".py",
   "mimetype": "text/x-python",
   "name": "python",
   "nbconvert_exporter": "python",
   "pygments_lexer": "ipython3",
   "version": "3.12.4"
  }
 },
 "nbformat": 4,
 "nbformat_minor": 5
}
